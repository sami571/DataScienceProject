{
 "cells": [
  {
   "cell_type": "code",
   "execution_count": 2,
   "metadata": {},
   "outputs": [],
   "source": [
    "import numpy as np\n",
    "import pandas as pd\n",
    "import matplotlib.pyplot as plt\n",
    "from datetime import datetime\n",
    "import math as mp \n",
    "import seaborn as sns\n",
    "%matplotlib inline"
   ]
  },
  {
   "cell_type": "markdown",
   "metadata": {},
   "source": [
    "## Importation des données  : "
   ]
  },
  {
   "cell_type": "code",
   "execution_count": 3,
   "metadata": {},
   "outputs": [],
   "source": [
    "Sinistre=pd.read_excel(\"Sinistre_Fraude.xlsx\") "
   ]
  },
  {
   "cell_type": "code",
   "execution_count": 4,
   "metadata": {},
   "outputs": [],
   "source": [
    "Assure=pd.read_excel('NewAssure.xlsx')"
   ]
  },
  {
   "cell_type": "code",
   "execution_count": 5,
   "metadata": {},
   "outputs": [
    {
     "name": "stderr",
     "output_type": "stream",
     "text": [
      "C:\\Users\\ASUS\\anaconda3\\lib\\site-packages\\IPython\\core\\interactiveshell.py:3146: DtypeWarning: Columns (2) have mixed types. Specify dtype option on import or set low_memory=False.\n",
      "  has_raised = await self.run_ast_nodes(code_ast.body, cell_name,\n"
     ]
    }
   ],
   "source": [
    "Police= pd.read_csv(\"NewPolice.csv\",sep=',') "
   ]
  },
  {
   "cell_type": "code",
   "execution_count": 6,
   "metadata": {},
   "outputs": [],
   "source": [
    "BonusMalus=pd.read_excel('NewBonusMalus.xlsx')"
   ]
  },
  {
   "cell_type": "markdown",
   "metadata": {},
   "source": [
    "## Analyse exploratoire  : "
   ]
  },
  {
   "cell_type": "markdown",
   "metadata": {},
   "source": [
    "### Le pourcentage des valeurs manquantes de chaque table : "
   ]
  },
  {
   "cell_type": "code",
   "execution_count": 7,
   "metadata": {},
   "outputs": [],
   "source": [
    "def draw_missing_data_table(df):\n",
    "    total = df.isnull().sum().sort_values(ascending=False)\n",
    "    percent = (df.isnull().sum()/df.isnull().count()).sort_values(ascending=False)\n",
    "    missing_data = pd.concat([total, percent], axis=1, keys=['Total', 'Percent'])\n",
    "    return missing_data"
   ]
  },
  {
   "cell_type": "markdown",
   "metadata": {},
   "source": [
    "###  1) Table Sinistre  : "
   ]
  },
  {
   "cell_type": "code",
   "execution_count": 8,
   "metadata": {},
   "outputs": [
    {
     "data": {
      "text/html": [
       "<div>\n",
       "<style scoped>\n",
       "    .dataframe tbody tr th:only-of-type {\n",
       "        vertical-align: middle;\n",
       "    }\n",
       "\n",
       "    .dataframe tbody tr th {\n",
       "        vertical-align: top;\n",
       "    }\n",
       "\n",
       "    .dataframe thead th {\n",
       "        text-align: right;\n",
       "    }\n",
       "</style>\n",
       "<table border=\"1\" class=\"dataframe\">\n",
       "  <thead>\n",
       "    <tr style=\"text-align: right;\">\n",
       "      <th></th>\n",
       "      <th>Total</th>\n",
       "      <th>Percent</th>\n",
       "    </tr>\n",
       "  </thead>\n",
       "  <tbody>\n",
       "    <tr>\n",
       "      <th>energie</th>\n",
       "      <td>1</td>\n",
       "      <td>0.00011</td>\n",
       "    </tr>\n",
       "    <tr>\n",
       "      <th>nbsinistre</th>\n",
       "      <td>0</td>\n",
       "      <td>0.00000</td>\n",
       "    </tr>\n",
       "    <tr>\n",
       "      <th>age</th>\n",
       "      <td>0</td>\n",
       "      <td>0.00000</td>\n",
       "    </tr>\n",
       "    <tr>\n",
       "      <th>CodeSinistre_id</th>\n",
       "      <td>0</td>\n",
       "      <td>0.00000</td>\n",
       "    </tr>\n",
       "    <tr>\n",
       "      <th>id_police</th>\n",
       "      <td>0</td>\n",
       "      <td>0.00000</td>\n",
       "    </tr>\n",
       "    <tr>\n",
       "      <th>CodeVehicule_id</th>\n",
       "      <td>0</td>\n",
       "      <td>0.00000</td>\n",
       "    </tr>\n",
       "    <tr>\n",
       "      <th>id_assure</th>\n",
       "      <td>0</td>\n",
       "      <td>0.00000</td>\n",
       "    </tr>\n",
       "    <tr>\n",
       "      <th>dateOuvertureDuSinistre</th>\n",
       "      <td>0</td>\n",
       "      <td>0.00000</td>\n",
       "    </tr>\n",
       "    <tr>\n",
       "      <th>lieuDuSinistre</th>\n",
       "      <td>0</td>\n",
       "      <td>0.00000</td>\n",
       "    </tr>\n",
       "    <tr>\n",
       "      <th>pourcentadeDeResponsabilite</th>\n",
       "      <td>0</td>\n",
       "      <td>0.00000</td>\n",
       "    </tr>\n",
       "    <tr>\n",
       "      <th>natureDuSinistre</th>\n",
       "      <td>0</td>\n",
       "      <td>0.00000</td>\n",
       "    </tr>\n",
       "    <tr>\n",
       "      <th>Calculer_Sinistre</th>\n",
       "      <td>0</td>\n",
       "      <td>0.00000</td>\n",
       "    </tr>\n",
       "    <tr>\n",
       "      <th>CodePolice_Adverse</th>\n",
       "      <td>0</td>\n",
       "      <td>0.00000</td>\n",
       "    </tr>\n",
       "    <tr>\n",
       "      <th>id_assure_adverse</th>\n",
       "      <td>0</td>\n",
       "      <td>0.00000</td>\n",
       "    </tr>\n",
       "    <tr>\n",
       "      <th>gender</th>\n",
       "      <td>0</td>\n",
       "      <td>0.00000</td>\n",
       "    </tr>\n",
       "    <tr>\n",
       "      <th>gouvernorat</th>\n",
       "      <td>0</td>\n",
       "      <td>0.00000</td>\n",
       "    </tr>\n",
       "    <tr>\n",
       "      <th>Fraude</th>\n",
       "      <td>0</td>\n",
       "      <td>0.00000</td>\n",
       "    </tr>\n",
       "    <tr>\n",
       "      <th>secteur_activite</th>\n",
       "      <td>0</td>\n",
       "      <td>0.00000</td>\n",
       "    </tr>\n",
       "    <tr>\n",
       "      <th>date_permis</th>\n",
       "      <td>0</td>\n",
       "      <td>0.00000</td>\n",
       "    </tr>\n",
       "    <tr>\n",
       "      <th>compagnie_actuelle</th>\n",
       "      <td>0</td>\n",
       "      <td>0.00000</td>\n",
       "    </tr>\n",
       "    <tr>\n",
       "      <th>usage</th>\n",
       "      <td>0</td>\n",
       "      <td>0.00000</td>\n",
       "    </tr>\n",
       "    <tr>\n",
       "      <th>age_vehicule</th>\n",
       "      <td>0</td>\n",
       "      <td>0.00000</td>\n",
       "    </tr>\n",
       "    <tr>\n",
       "      <th>ancienne_compagnie</th>\n",
       "      <td>0</td>\n",
       "      <td>0.00000</td>\n",
       "    </tr>\n",
       "    <tr>\n",
       "      <th>dateEffetPolice</th>\n",
       "      <td>0</td>\n",
       "      <td>0.00000</td>\n",
       "    </tr>\n",
       "    <tr>\n",
       "      <th>naturePolice</th>\n",
       "      <td>0</td>\n",
       "      <td>0.00000</td>\n",
       "    </tr>\n",
       "    <tr>\n",
       "      <th>dateInsertion</th>\n",
       "      <td>0</td>\n",
       "      <td>0.00000</td>\n",
       "    </tr>\n",
       "    <tr>\n",
       "      <th>puissanceFiscal</th>\n",
       "      <td>0</td>\n",
       "      <td>0.00000</td>\n",
       "    </tr>\n",
       "    <tr>\n",
       "      <th>Marque</th>\n",
       "      <td>0</td>\n",
       "      <td>0.00000</td>\n",
       "    </tr>\n",
       "    <tr>\n",
       "      <th>Unnamed: 0</th>\n",
       "      <td>0</td>\n",
       "      <td>0.00000</td>\n",
       "    </tr>\n",
       "  </tbody>\n",
       "</table>\n",
       "</div>"
      ],
      "text/plain": [
       "                             Total  Percent\n",
       "energie                          1  0.00011\n",
       "nbsinistre                       0  0.00000\n",
       "age                              0  0.00000\n",
       "CodeSinistre_id                  0  0.00000\n",
       "id_police                        0  0.00000\n",
       "CodeVehicule_id                  0  0.00000\n",
       "id_assure                        0  0.00000\n",
       "dateOuvertureDuSinistre          0  0.00000\n",
       "lieuDuSinistre                   0  0.00000\n",
       "pourcentadeDeResponsabilite      0  0.00000\n",
       "natureDuSinistre                 0  0.00000\n",
       "Calculer_Sinistre                0  0.00000\n",
       "CodePolice_Adverse               0  0.00000\n",
       "id_assure_adverse                0  0.00000\n",
       "gender                           0  0.00000\n",
       "gouvernorat                      0  0.00000\n",
       "Fraude                           0  0.00000\n",
       "secteur_activite                 0  0.00000\n",
       "date_permis                      0  0.00000\n",
       "compagnie_actuelle               0  0.00000\n",
       "usage                            0  0.00000\n",
       "age_vehicule                     0  0.00000\n",
       "ancienne_compagnie               0  0.00000\n",
       "dateEffetPolice                  0  0.00000\n",
       "naturePolice                     0  0.00000\n",
       "dateInsertion                    0  0.00000\n",
       "puissanceFiscal                  0  0.00000\n",
       "Marque                           0  0.00000\n",
       "Unnamed: 0                       0  0.00000"
      ]
     },
     "execution_count": 8,
     "metadata": {},
     "output_type": "execute_result"
    }
   ],
   "source": [
    "draw_missing_data_table(Sinistre)"
   ]
  },
  {
   "cell_type": "code",
   "execution_count": 9,
   "metadata": {},
   "outputs": [
    {
     "data": {
      "text/plain": [
       "Index(['Unnamed: 0', 'CodeSinistre_id', 'id_police', 'CodeVehicule_id',\n",
       "       'id_assure', 'dateOuvertureDuSinistre', 'lieuDuSinistre',\n",
       "       'pourcentadeDeResponsabilite', 'natureDuSinistre', 'Calculer_Sinistre',\n",
       "       'CodePolice_Adverse', 'id_assure_adverse', 'gender', 'age',\n",
       "       'gouvernorat', 'secteur_activite', 'date_permis', 'compagnie_actuelle',\n",
       "       'usage', 'age_vehicule', 'ancienne_compagnie', 'dateEffetPolice',\n",
       "       'naturePolice', 'dateInsertion', 'energie', 'puissanceFiscal', 'Marque',\n",
       "       'Fraude', 'nbsinistre'],\n",
       "      dtype='object')"
      ]
     },
     "execution_count": 9,
     "metadata": {},
     "output_type": "execute_result"
    }
   ],
   "source": [
    "Sinistre.columns"
   ]
  },
  {
   "cell_type": "code",
   "execution_count": 10,
   "metadata": {},
   "outputs": [
    {
     "data": {
      "text/plain": [
       "(9079, 29)"
      ]
     },
     "execution_count": 10,
     "metadata": {},
     "output_type": "execute_result"
    }
   ],
   "source": [
    "Sinistre.shape"
   ]
  },
  {
   "cell_type": "code",
   "execution_count": 11,
   "metadata": {},
   "outputs": [],
   "source": [
    "Sinistre=Sinistre.drop(['Unnamed: 0'],axis=1)"
   ]
  },
  {
   "cell_type": "markdown",
   "metadata": {},
   "source": [
    "#### Comparison entre les  sinistres corporel / matériel  :  "
   ]
  },
  {
   "cell_type": "code",
   "execution_count": 12,
   "metadata": {},
   "outputs": [
    {
     "name": "stderr",
     "output_type": "stream",
     "text": [
      "C:\\Users\\ASUS\\anaconda3\\lib\\site-packages\\seaborn\\_decorators.py:36: FutureWarning: Pass the following variable as a keyword arg: x. From version 0.12, the only valid positional argument will be `data`, and passing other arguments without an explicit keyword will result in an error or misinterpretation.\n",
      "  warnings.warn(\n"
     ]
    },
    {
     "data": {
      "text/plain": [
       "<AxesSubplot:xlabel='natureDuSinistre', ylabel='count'>"
      ]
     },
     "execution_count": 12,
     "metadata": {},
     "output_type": "execute_result"
    },
    {
     "data": {
      "image/png": "[encoded data removed]",
      "text/plain": [
       "<Figure size 432x288 with 1 Axes>"
      ]
     },
     "metadata": {
      "needs_background": "light"
     },
     "output_type": "display_data"
    }
   ],
   "source": [
    "sns.countplot(\"natureDuSinistre\", data=Sinistre)"
   ]
  },
  {
   "cell_type": "code",
   "execution_count": 13,
   "metadata": {},
   "outputs": [],
   "source": [
    "Sinistre_Corporel=Sinistre.query('natureDuSinistre==\"C\" ')"
   ]
  },
  {
   "cell_type": "markdown",
   "metadata": {},
   "source": [
    "### 2) Table Assure : "
   ]
  },
  {
   "cell_type": "code",
   "execution_count": 14,
   "metadata": {},
   "outputs": [
    {
     "data": {
      "text/html": [
       "<div>\n",
       "<style scoped>\n",
       "    .dataframe tbody tr th:only-of-type {\n",
       "        vertical-align: middle;\n",
       "    }\n",
       "\n",
       "    .dataframe tbody tr th {\n",
       "        vertical-align: top;\n",
       "    }\n",
       "\n",
       "    .dataframe thead th {\n",
       "        text-align: right;\n",
       "    }\n",
       "</style>\n",
       "<table border=\"1\" class=\"dataframe\">\n",
       "  <thead>\n",
       "    <tr style=\"text-align: right;\">\n",
       "      <th></th>\n",
       "      <th>Total</th>\n",
       "      <th>Percent</th>\n",
       "    </tr>\n",
       "  </thead>\n",
       "  <tbody>\n",
       "    <tr>\n",
       "      <th>satisfaction</th>\n",
       "      <td>0</td>\n",
       "      <td>0.0</td>\n",
       "    </tr>\n",
       "    <tr>\n",
       "      <th>ancienne_compagnie</th>\n",
       "      <td>0</td>\n",
       "      <td>0.0</td>\n",
       "    </tr>\n",
       "    <tr>\n",
       "      <th>nb_sinistres</th>\n",
       "      <td>0</td>\n",
       "      <td>0.0</td>\n",
       "    </tr>\n",
       "    <tr>\n",
       "      <th>age_vehicule</th>\n",
       "      <td>0</td>\n",
       "      <td>0.0</td>\n",
       "    </tr>\n",
       "    <tr>\n",
       "      <th>usage</th>\n",
       "      <td>0</td>\n",
       "      <td>0.0</td>\n",
       "    </tr>\n",
       "    <tr>\n",
       "      <th>compagnie_actuelle</th>\n",
       "      <td>0</td>\n",
       "      <td>0.0</td>\n",
       "    </tr>\n",
       "    <tr>\n",
       "      <th>date_permis</th>\n",
       "      <td>0</td>\n",
       "      <td>0.0</td>\n",
       "    </tr>\n",
       "    <tr>\n",
       "      <th>secteur_activite</th>\n",
       "      <td>0</td>\n",
       "      <td>0.0</td>\n",
       "    </tr>\n",
       "    <tr>\n",
       "      <th>gouvernorat</th>\n",
       "      <td>0</td>\n",
       "      <td>0.0</td>\n",
       "    </tr>\n",
       "    <tr>\n",
       "      <th>age</th>\n",
       "      <td>0</td>\n",
       "      <td>0.0</td>\n",
       "    </tr>\n",
       "    <tr>\n",
       "      <th>gender</th>\n",
       "      <td>0</td>\n",
       "      <td>0.0</td>\n",
       "    </tr>\n",
       "    <tr>\n",
       "      <th>_id</th>\n",
       "      <td>0</td>\n",
       "      <td>0.0</td>\n",
       "    </tr>\n",
       "    <tr>\n",
       "      <th>CodeAssure_id</th>\n",
       "      <td>0</td>\n",
       "      <td>0.0</td>\n",
       "    </tr>\n",
       "    <tr>\n",
       "      <th>key_0</th>\n",
       "      <td>0</td>\n",
       "      <td>0.0</td>\n",
       "    </tr>\n",
       "    <tr>\n",
       "      <th>Unnamed: 0</th>\n",
       "      <td>0</td>\n",
       "      <td>0.0</td>\n",
       "    </tr>\n",
       "  </tbody>\n",
       "</table>\n",
       "</div>"
      ],
      "text/plain": [
       "                    Total  Percent\n",
       "satisfaction            0      0.0\n",
       "ancienne_compagnie      0      0.0\n",
       "nb_sinistres            0      0.0\n",
       "age_vehicule            0      0.0\n",
       "usage                   0      0.0\n",
       "compagnie_actuelle      0      0.0\n",
       "date_permis             0      0.0\n",
       "secteur_activite        0      0.0\n",
       "gouvernorat             0      0.0\n",
       "age                     0      0.0\n",
       "gender                  0      0.0\n",
       "_id                     0      0.0\n",
       "CodeAssure_id           0      0.0\n",
       "key_0                   0      0.0\n",
       "Unnamed: 0              0      0.0"
      ]
     },
     "execution_count": 14,
     "metadata": {},
     "output_type": "execute_result"
    }
   ],
   "source": [
    "draw_missing_data_table(Assure)"
   ]
  },
  {
   "cell_type": "code",
   "execution_count": 15,
   "metadata": {},
   "outputs": [
    {
     "data": {
      "text/plain": [
       "Index(['Unnamed: 0', 'key_0', 'CodeAssure_id', '_id', 'gender', 'age',\n",
       "       'gouvernorat', 'secteur_activite', 'date_permis', 'compagnie_actuelle',\n",
       "       'usage', 'age_vehicule', 'nb_sinistres', 'ancienne_compagnie',\n",
       "       'satisfaction'],\n",
       "      dtype='object')"
      ]
     },
     "execution_count": 15,
     "metadata": {},
     "output_type": "execute_result"
    }
   ],
   "source": [
    "Assure.columns"
   ]
  },
  {
   "cell_type": "code",
   "execution_count": 16,
   "metadata": {},
   "outputs": [
    {
     "data": {
      "text/plain": [
       "pandas.core.frame.DataFrame"
      ]
     },
     "execution_count": 16,
     "metadata": {},
     "output_type": "execute_result"
    }
   ],
   "source": [
    "type(Assure)"
   ]
  },
  {
   "cell_type": "code",
   "execution_count": 17,
   "metadata": {},
   "outputs": [
    {
     "data": {
      "text/plain": [
       "(35174, 15)"
      ]
     },
     "execution_count": 17,
     "metadata": {},
     "output_type": "execute_result"
    }
   ],
   "source": [
    "Assure.shape"
   ]
  },
  {
   "cell_type": "code",
   "execution_count": 18,
   "metadata": {},
   "outputs": [],
   "source": [
    "Assure=Assure.drop(['Unnamed: 0','key_0'],axis=1)"
   ]
  },
  {
   "cell_type": "markdown",
   "metadata": {},
   "source": [
    "#### Assures / Secteur d'activite  : "
   ]
  },
  {
   "cell_type": "code",
   "execution_count": 19,
   "metadata": {},
   "outputs": [
    {
     "name": "stderr",
     "output_type": "stream",
     "text": [
      "C:\\Users\\ASUS\\anaconda3\\lib\\site-packages\\seaborn\\_decorators.py:36: FutureWarning: Pass the following variable as a keyword arg: x. From version 0.12, the only valid positional argument will be `data`, and passing other arguments without an explicit keyword will result in an error or misinterpretation.\n",
      "  warnings.warn(\n"
     ]
    },
    {
     "data": {
      "text/plain": [
       "<AxesSubplot:xlabel='secteur_activite', ylabel='count'>"
      ]
     },
     "execution_count": 19,
     "metadata": {},
     "output_type": "execute_result"
    },
    {
     "data": {
      "image/png": "[encoded data removed]",
      "text/plain": [
       "<Figure size 1296x576 with 1 Axes>"
      ]
     },
     "metadata": {
      "needs_background": "light"
     },
     "output_type": "display_data"
    }
   ],
   "source": [
    "plt.figure(figsize=(18, 8))\n",
    "sns.countplot(\"secteur_activite\", data=Assure)"
   ]
  },
  {
   "cell_type": "markdown",
   "metadata": {},
   "source": [
    "#### Assure - Nombre Sinistre corporel : "
   ]
  },
  {
   "cell_type": "code",
   "execution_count": 20,
   "metadata": {},
   "outputs": [],
   "source": [
    "Assure_Sinistre_Corporel=Sinistre_Corporel.groupby(['id_assure'])['natureDuSinistre'].count()\n",
    "Assure_c=[]\n",
    "Nb_Sinistre_c=[] \n",
    "for assure,nb_sinistre_c in Assure_Sinistre_Corporel.items(): \n",
    "    Assure_c.append(assure)\n",
    "    Nb_Sinistre_c.append(nb_sinistre_c)"
   ]
  },
  {
   "cell_type": "code",
   "execution_count": 21,
   "metadata": {},
   "outputs": [],
   "source": [
    "Assure_Corporel=pd.DataFrame({\"CodeAssure_id\":Assure_c,\"Nb_Sinistre_c\":Nb_Sinistre_c}) "
   ]
  },
  {
   "cell_type": "markdown",
   "metadata": {},
   "source": [
    "#### Assure - Nombre Total Sinistres : "
   ]
  },
  {
   "cell_type": "code",
   "execution_count": 22,
   "metadata": {},
   "outputs": [],
   "source": [
    "Assure_Sinistre=Sinistre.groupby(['id_assure'])['CodeSinistre_id'].count()\n",
    "Assure_t=[]\n",
    "Nb_Sinistre=[]\n",
    "for assure,nb_sinistre in Assure_Sinistre.items(): \n",
    "    Assure_t.append(assure)\n",
    "    Nb_Sinistre.append(nb_sinistre)"
   ]
  },
  {
   "cell_type": "code",
   "execution_count": 23,
   "metadata": {},
   "outputs": [],
   "source": [
    "Assure_Sinistre_total=pd.DataFrame({\"CodeAssure_id\":Assure_t,\"NombreTotalSinistres\":Nb_Sinistre}) "
   ]
  },
  {
   "cell_type": "markdown",
   "metadata": {},
   "source": [
    "#### Jointure entre les deux Tables : "
   ]
  },
  {
   "cell_type": "code",
   "execution_count": 24,
   "metadata": {},
   "outputs": [],
   "source": [
    "Assure_Sinistres=pd.merge(Assure_Corporel,Assure_Sinistre_total,how=\"right\",on=\"CodeAssure_id\")"
   ]
  },
  {
   "cell_type": "code",
   "execution_count": 25,
   "metadata": {},
   "outputs": [
    {
     "data": {
      "text/html": [
       "<div>\n",
       "<style scoped>\n",
       "    .dataframe tbody tr th:only-of-type {\n",
       "        vertical-align: middle;\n",
       "    }\n",
       "\n",
       "    .dataframe tbody tr th {\n",
       "        vertical-align: top;\n",
       "    }\n",
       "\n",
       "    .dataframe thead th {\n",
       "        text-align: right;\n",
       "    }\n",
       "</style>\n",
       "<table border=\"1\" class=\"dataframe\">\n",
       "  <thead>\n",
       "    <tr style=\"text-align: right;\">\n",
       "      <th></th>\n",
       "      <th>Total</th>\n",
       "      <th>Percent</th>\n",
       "    </tr>\n",
       "  </thead>\n",
       "  <tbody>\n",
       "    <tr>\n",
       "      <th>Nb_Sinistre_c</th>\n",
       "      <td>3823</td>\n",
       "      <td>0.905281</td>\n",
       "    </tr>\n",
       "    <tr>\n",
       "      <th>NombreTotalSinistres</th>\n",
       "      <td>0</td>\n",
       "      <td>0.000000</td>\n",
       "    </tr>\n",
       "    <tr>\n",
       "      <th>CodeAssure_id</th>\n",
       "      <td>0</td>\n",
       "      <td>0.000000</td>\n",
       "    </tr>\n",
       "  </tbody>\n",
       "</table>\n",
       "</div>"
      ],
      "text/plain": [
       "                      Total   Percent\n",
       "Nb_Sinistre_c          3823  0.905281\n",
       "NombreTotalSinistres      0  0.000000\n",
       "CodeAssure_id             0  0.000000"
      ]
     },
     "execution_count": 25,
     "metadata": {},
     "output_type": "execute_result"
    }
   ],
   "source": [
    "draw_missing_data_table(Assure_Sinistres)"
   ]
  },
  {
   "cell_type": "markdown",
   "metadata": {},
   "source": [
    "##### Les valeurs nuls dans la colonne 'Nb_Sinistre_c' nous indique que les assurés n'ont pas eu des sinistre corporels , alors on va remplacer ces valeurs nuls par des zéros "
   ]
  },
  {
   "cell_type": "code",
   "execution_count": 26,
   "metadata": {},
   "outputs": [],
   "source": [
    "Assure_Sinistres['Nb_Sinistre_c']=Assure_Sinistres['Nb_Sinistre_c'].fillna(0)\n",
    "Assure_Sinistres['Nb_Sinistre_c']=Assure_Sinistres['Nb_Sinistre_c'].astype(int)"
   ]
  },
  {
   "cell_type": "markdown",
   "metadata": {},
   "source": [
    "### 3) Table Police : "
   ]
  },
  {
   "cell_type": "code",
   "execution_count": 27,
   "metadata": {},
   "outputs": [
    {
     "data": {
      "text/html": [
       "<div>\n",
       "<style scoped>\n",
       "    .dataframe tbody tr th:only-of-type {\n",
       "        vertical-align: middle;\n",
       "    }\n",
       "\n",
       "    .dataframe tbody tr th {\n",
       "        vertical-align: top;\n",
       "    }\n",
       "\n",
       "    .dataframe thead th {\n",
       "        text-align: right;\n",
       "    }\n",
       "</style>\n",
       "<table border=\"1\" class=\"dataframe\">\n",
       "  <thead>\n",
       "    <tr style=\"text-align: right;\">\n",
       "      <th></th>\n",
       "      <th>Total</th>\n",
       "      <th>Percent</th>\n",
       "    </tr>\n",
       "  </thead>\n",
       "  <tbody>\n",
       "    <tr>\n",
       "      <th>dateEcheancePolice</th>\n",
       "      <td>107475</td>\n",
       "      <td>0.104345</td>\n",
       "    </tr>\n",
       "    <tr>\n",
       "      <th>typePolice</th>\n",
       "      <td>0</td>\n",
       "      <td>0.000000</td>\n",
       "    </tr>\n",
       "    <tr>\n",
       "      <th>typeIntermediaire</th>\n",
       "      <td>0</td>\n",
       "      <td>0.000000</td>\n",
       "    </tr>\n",
       "    <tr>\n",
       "      <th>numPolice</th>\n",
       "      <td>0</td>\n",
       "      <td>0.000000</td>\n",
       "    </tr>\n",
       "    <tr>\n",
       "      <th>naturePolice</th>\n",
       "      <td>0</td>\n",
       "      <td>0.000000</td>\n",
       "    </tr>\n",
       "    <tr>\n",
       "      <th>dateEffetPolice</th>\n",
       "      <td>0</td>\n",
       "      <td>0.000000</td>\n",
       "    </tr>\n",
       "    <tr>\n",
       "      <th>codeCompagnie</th>\n",
       "      <td>0</td>\n",
       "      <td>0.000000</td>\n",
       "    </tr>\n",
       "    <tr>\n",
       "      <th>codeAgence</th>\n",
       "      <td>0</td>\n",
       "      <td>0.000000</td>\n",
       "    </tr>\n",
       "    <tr>\n",
       "      <th>Etat_Police</th>\n",
       "      <td>0</td>\n",
       "      <td>0.000000</td>\n",
       "    </tr>\n",
       "    <tr>\n",
       "      <th>CodePolice_id</th>\n",
       "      <td>0</td>\n",
       "      <td>0.000000</td>\n",
       "    </tr>\n",
       "  </tbody>\n",
       "</table>\n",
       "</div>"
      ],
      "text/plain": [
       "                     Total   Percent\n",
       "dateEcheancePolice  107475  0.104345\n",
       "typePolice               0  0.000000\n",
       "typeIntermediaire        0  0.000000\n",
       "numPolice                0  0.000000\n",
       "naturePolice             0  0.000000\n",
       "dateEffetPolice          0  0.000000\n",
       "codeCompagnie            0  0.000000\n",
       "codeAgence               0  0.000000\n",
       "Etat_Police              0  0.000000\n",
       "CodePolice_id            0  0.000000"
      ]
     },
     "execution_count": 27,
     "metadata": {},
     "output_type": "execute_result"
    }
   ],
   "source": [
    "draw_missing_data_table(Police)"
   ]
  },
  {
   "cell_type": "code",
   "execution_count": 28,
   "metadata": {},
   "outputs": [
    {
     "data": {
      "text/plain": [
       "Index(['CodePolice_id', 'Etat_Police', 'codeAgence', 'codeCompagnie',\n",
       "       'dateEcheancePolice', 'dateEffetPolice', 'naturePolice', 'numPolice',\n",
       "       'typeIntermediaire', 'typePolice'],\n",
       "      dtype='object')"
      ]
     },
     "execution_count": 28,
     "metadata": {},
     "output_type": "execute_result"
    }
   ],
   "source": [
    "Police.columns"
   ]
  },
  {
   "cell_type": "code",
   "execution_count": 29,
   "metadata": {},
   "outputs": [
    {
     "data": {
      "text/plain": [
       "(1030000, 10)"
      ]
     },
     "execution_count": 29,
     "metadata": {},
     "output_type": "execute_result"
    }
   ],
   "source": [
    "Police.shape"
   ]
  },
  {
   "cell_type": "markdown",
   "metadata": {},
   "source": [
    "### 4) Table BonusMalus : "
   ]
  },
  {
   "cell_type": "code",
   "execution_count": 30,
   "metadata": {},
   "outputs": [
    {
     "data": {
      "text/html": [
       "<div>\n",
       "<style scoped>\n",
       "    .dataframe tbody tr th:only-of-type {\n",
       "        vertical-align: middle;\n",
       "    }\n",
       "\n",
       "    .dataframe tbody tr th {\n",
       "        vertical-align: top;\n",
       "    }\n",
       "\n",
       "    .dataframe thead th {\n",
       "        text-align: right;\n",
       "    }\n",
       "</style>\n",
       "<table border=\"1\" class=\"dataframe\">\n",
       "  <thead>\n",
       "    <tr style=\"text-align: right;\">\n",
       "      <th></th>\n",
       "      <th>Total</th>\n",
       "      <th>Percent</th>\n",
       "    </tr>\n",
       "  </thead>\n",
       "  <tbody>\n",
       "    <tr>\n",
       "      <th>coefBonusMalus</th>\n",
       "      <td>0</td>\n",
       "      <td>0.0</td>\n",
       "    </tr>\n",
       "    <tr>\n",
       "      <th>classeBonusMalusCompagnie</th>\n",
       "      <td>0</td>\n",
       "      <td>0.0</td>\n",
       "    </tr>\n",
       "    <tr>\n",
       "      <th>classeBonusMalus</th>\n",
       "      <td>0</td>\n",
       "      <td>0.0</td>\n",
       "    </tr>\n",
       "    <tr>\n",
       "      <th>DATE_AFFECTATION</th>\n",
       "      <td>0</td>\n",
       "      <td>0.0</td>\n",
       "    </tr>\n",
       "    <tr>\n",
       "      <th>ETAT_VEHICULE</th>\n",
       "      <td>0</td>\n",
       "      <td>0.0</td>\n",
       "    </tr>\n",
       "    <tr>\n",
       "      <th>codeUsage</th>\n",
       "      <td>0</td>\n",
       "      <td>0.0</td>\n",
       "    </tr>\n",
       "    <tr>\n",
       "      <th>CodeSouscripteur_id</th>\n",
       "      <td>0</td>\n",
       "      <td>0.0</td>\n",
       "    </tr>\n",
       "    <tr>\n",
       "      <th>CodeAssure_id</th>\n",
       "      <td>0</td>\n",
       "      <td>0.0</td>\n",
       "    </tr>\n",
       "    <tr>\n",
       "      <th>CodeVehicule_id</th>\n",
       "      <td>0</td>\n",
       "      <td>0.0</td>\n",
       "    </tr>\n",
       "    <tr>\n",
       "      <th>CodePolice_id</th>\n",
       "      <td>0</td>\n",
       "      <td>0.0</td>\n",
       "    </tr>\n",
       "    <tr>\n",
       "      <th>CodeBonusMalus_id</th>\n",
       "      <td>0</td>\n",
       "      <td>0.0</td>\n",
       "    </tr>\n",
       "  </tbody>\n",
       "</table>\n",
       "</div>"
      ],
      "text/plain": [
       "                           Total  Percent\n",
       "coefBonusMalus                 0      0.0\n",
       "classeBonusMalusCompagnie      0      0.0\n",
       "classeBonusMalus               0      0.0\n",
       "DATE_AFFECTATION               0      0.0\n",
       "ETAT_VEHICULE                  0      0.0\n",
       "codeUsage                      0      0.0\n",
       "CodeSouscripteur_id            0      0.0\n",
       "CodeAssure_id                  0      0.0\n",
       "CodeVehicule_id                0      0.0\n",
       "CodePolice_id                  0      0.0\n",
       "CodeBonusMalus_id              0      0.0"
      ]
     },
     "execution_count": 30,
     "metadata": {},
     "output_type": "execute_result"
    }
   ],
   "source": [
    "draw_missing_data_table(BonusMalus)"
   ]
  },
  {
   "cell_type": "code",
   "execution_count": 31,
   "metadata": {},
   "outputs": [
    {
     "data": {
      "text/plain": [
       "Index(['CodeBonusMalus_id', 'CodePolice_id', 'CodeVehicule_id',\n",
       "       'CodeAssure_id', 'CodeSouscripteur_id', 'codeUsage', 'ETAT_VEHICULE',\n",
       "       'DATE_AFFECTATION', 'classeBonusMalus', 'classeBonusMalusCompagnie',\n",
       "       'coefBonusMalus'],\n",
       "      dtype='object')"
      ]
     },
     "execution_count": 31,
     "metadata": {},
     "output_type": "execute_result"
    }
   ],
   "source": [
    "BonusMalus.columns"
   ]
  },
  {
   "cell_type": "code",
   "execution_count": 32,
   "metadata": {},
   "outputs": [
    {
     "data": {
      "text/plain": [
       "(637267, 11)"
      ]
     },
     "execution_count": 32,
     "metadata": {},
     "output_type": "execute_result"
    }
   ],
   "source": [
    "BonusMalus.shape"
   ]
  },
  {
   "cell_type": "code",
   "execution_count": 33,
   "metadata": {},
   "outputs": [],
   "source": [
    "BonusMalus['DATE_AFFECTATION']=pd.to_datetime(BonusMalus['DATE_AFFECTATION'], format='%Y-%m-%d')"
   ]
  },
  {
   "cell_type": "markdown",
   "metadata": {},
   "source": [
    "## BonusMalus 2015 : "
   ]
  },
  {
   "cell_type": "code",
   "execution_count": 34,
   "metadata": {},
   "outputs": [],
   "source": [
    "BonusMalus_2015 = BonusMalus.loc[(BonusMalus['DATE_AFFECTATION'] >= '2015-01-01') & (BonusMalus['DATE_AFFECTATION'] < '2015-12-31')]"
   ]
  },
  {
   "cell_type": "code",
   "execution_count": 35,
   "metadata": {},
   "outputs": [],
   "source": [
    "Assure_2015_Fraude=BonusMalus_2015.groupby('CodeAssure_id').size().sort_values(ascending=False).head(12)"
   ]
  },
  {
   "cell_type": "code",
   "execution_count": 36,
   "metadata": {},
   "outputs": [
    {
     "data": {
      "text/plain": [
       "CodeAssure_id\n",
       "53968      425\n",
       "213237      15\n",
       "416408       9\n",
       "129532       8\n",
       "51749        6\n",
       "653678       5\n",
       "548137       5\n",
       "1026639      5\n",
       "241608       5\n",
       "241780       5\n",
       "661743       4\n",
       "269059       4\n",
       "dtype: int64"
      ]
     },
     "execution_count": 36,
     "metadata": {},
     "output_type": "execute_result"
    }
   ],
   "source": [
    "Assure_2015_Fraude"
   ]
  },
  {
   "cell_type": "markdown",
   "metadata": {},
   "source": [
    "## BonusMalus 2016 : "
   ]
  },
  {
   "cell_type": "code",
   "execution_count": 37,
   "metadata": {},
   "outputs": [],
   "source": [
    "BonusMalus_2016 = BonusMalus.loc[(BonusMalus['DATE_AFFECTATION'] >= '2016-01-01') & (BonusMalus['DATE_AFFECTATION'] < '2016-12-31')]"
   ]
  },
  {
   "cell_type": "code",
   "execution_count": 38,
   "metadata": {},
   "outputs": [],
   "source": [
    "Assure_2016_=BonusMalus_2016.groupby('CodeAssure_id').size().sort_values(ascending=False).head(12)"
   ]
  },
  {
   "cell_type": "code",
   "execution_count": 39,
   "metadata": {},
   "outputs": [
    {
     "data": {
      "text/plain": [
       "CodeAssure_id\n",
       "53968     1581\n",
       "36330      150\n",
       "46811      102\n",
       "45825       87\n",
       "53642       77\n",
       "53806       63\n",
       "53681       51\n",
       "5817        40\n",
       "36108       33\n",
       "71676       28\n",
       "26538       27\n",
       "546392      24\n",
       "dtype: int64"
      ]
     },
     "execution_count": 39,
     "metadata": {},
     "output_type": "execute_result"
    }
   ],
   "source": [
    "Assure_2016_"
   ]
  },
  {
   "cell_type": "markdown",
   "metadata": {},
   "source": [
    "## BonusMalus 2017 : "
   ]
  },
  {
   "cell_type": "code",
   "execution_count": 40,
   "metadata": {},
   "outputs": [],
   "source": [
    "BonusMalus_2017 = BonusMalus.loc[(BonusMalus['DATE_AFFECTATION'] >= '2017-01-01') & (BonusMalus['DATE_AFFECTATION'] < '2017-12-31')]"
   ]
  },
  {
   "cell_type": "code",
   "execution_count": 41,
   "metadata": {},
   "outputs": [],
   "source": [
    "Assure_2017_Fraude=BonusMalus_2017.groupby('CodeAssure_id').size().sort_values(ascending=False).head(1760)"
   ]
  },
  {
   "cell_type": "code",
   "execution_count": 42,
   "metadata": {},
   "outputs": [
    {
     "data": {
      "text/plain": [
       "CodeAssure_id\n",
       "53968     1565\n",
       "36330      381\n",
       "36108      185\n",
       "45825      165\n",
       "46811      152\n",
       "          ... \n",
       "293905       4\n",
       "72713        4\n",
       "319942       4\n",
       "584512       4\n",
       "550007       4\n",
       "Length: 1760, dtype: int64"
      ]
     },
     "execution_count": 42,
     "metadata": {},
     "output_type": "execute_result"
    }
   ],
   "source": [
    "Assure_2017_Fraude"
   ]
  },
  {
   "cell_type": "markdown",
   "metadata": {},
   "source": [
    "## BonusMalus 2018 : "
   ]
  },
  {
   "cell_type": "code",
   "execution_count": 43,
   "metadata": {},
   "outputs": [],
   "source": [
    "BonusMalus_2018 = BonusMalus.loc[(BonusMalus['DATE_AFFECTATION'] >= '2018-01-01') & (BonusMalus['DATE_AFFECTATION'] < '2018-12-31')]"
   ]
  },
  {
   "cell_type": "code",
   "execution_count": 44,
   "metadata": {},
   "outputs": [],
   "source": [
    "Assure_2018_Fraude=BonusMalus_2018.groupby('CodeAssure_id').size().sort_values(ascending=False).head(185)"
   ]
  },
  {
   "cell_type": "code",
   "execution_count": 45,
   "metadata": {},
   "outputs": [
    {
     "data": {
      "text/plain": [
       "CodeAssure_id\n",
       "300935     987\n",
       "301091     952\n",
       "300754     841\n",
       "300600     817\n",
       "36330      133\n",
       "          ... \n",
       "63090        4\n",
       "337802       4\n",
       "1073781      4\n",
       "141515       4\n",
       "57969        4\n",
       "Length: 185, dtype: int64"
      ]
     },
     "execution_count": 45,
     "metadata": {},
     "output_type": "execute_result"
    }
   ],
   "source": [
    "Assure_2018_Fraude"
   ]
  },
  {
   "cell_type": "markdown",
   "metadata": {},
   "source": [
    "## BonusMalus 2019 : "
   ]
  },
  {
   "cell_type": "code",
   "execution_count": 46,
   "metadata": {},
   "outputs": [],
   "source": [
    "BonusMalus_2019 = BonusMalus.loc[(BonusMalus['DATE_AFFECTATION'] >= '2019-01-01') & (BonusMalus['DATE_AFFECTATION'] < '2019-12-31')]"
   ]
  },
  {
   "cell_type": "code",
   "execution_count": 47,
   "metadata": {},
   "outputs": [],
   "source": [
    "Assure_2019_=BonusMalus_2019.groupby('CodeAssure_id').size().sort_values(ascending=False).head(10)"
   ]
  },
  {
   "cell_type": "code",
   "execution_count": 48,
   "metadata": {},
   "outputs": [
    {
     "data": {
      "text/plain": [
       "CodeAssure_id\n",
       "778175    2\n",
       "100573    2\n",
       "778115    2\n",
       "223343    1\n",
       "258889    1\n",
       "283922    1\n",
       "302394    1\n",
       "455114    1\n",
       "562846    1\n",
       "923295    1\n",
       "dtype: int64"
      ]
     },
     "execution_count": 48,
     "metadata": {},
     "output_type": "execute_result"
    }
   ],
   "source": [
    "Assure_2019_"
   ]
  },
  {
   "cell_type": "markdown",
   "metadata": {},
   "source": [
    "## Seulement les données de l'année 2016 et 2019 semblent correctes et bien saisies , les données des autres années contiennent des anomalies  "
   ]
  },
  {
   "cell_type": "markdown",
   "metadata": {},
   "source": [
    "## Correspondances BonusMalus-Assure : "
   ]
  },
  {
   "cell_type": "code",
   "execution_count": 49,
   "metadata": {},
   "outputs": [],
   "source": [
    "BonusMalus_Assure=BonusMalus.CodeAssure_id.isin(Assure.CodeAssure_id).value_counts()"
   ]
  },
  {
   "cell_type": "code",
   "execution_count": 50,
   "metadata": {},
   "outputs": [
    {
     "name": "stderr",
     "output_type": "stream",
     "text": [
      "C:\\Users\\ASUS\\anaconda3\\lib\\site-packages\\seaborn\\_decorators.py:36: FutureWarning: Pass the following variables as keyword args: x, y. From version 0.12, the only valid positional argument will be `data`, and passing other arguments without an explicit keyword will result in an error or misinterpretation.\n",
      "  warnings.warn(\n"
     ]
    },
    {
     "data": {
      "text/plain": [
       "<AxesSubplot:>"
      ]
     },
     "execution_count": 50,
     "metadata": {},
     "output_type": "execute_result"
    },
    {
     "data": {
      "image/png": "[encoded data removed]",
      "text/plain": [
       "<Figure size 864x288 with 1 Axes>"
      ]
     },
     "metadata": {
      "needs_background": "light"
     },
     "output_type": "display_data"
    }
   ],
   "source": [
    "plt.figure(figsize=(12, 4))\n",
    "sns.barplot(BonusMalus_Assure.index, BonusMalus_Assure.values)"
   ]
  },
  {
   "cell_type": "markdown",
   "metadata": {},
   "source": [
    "### Table Bonus Malus : Supprimer Les lignes des assurés qui n'existent pas dans la table Assure   "
   ]
  },
  {
   "cell_type": "code",
   "execution_count": 51,
   "metadata": {},
   "outputs": [],
   "source": [
    "BonusMalus=BonusMalus[BonusMalus.CodeAssure_id.isin(Assure.CodeAssure_id)]"
   ]
  },
  {
   "cell_type": "markdown",
   "metadata": {},
   "source": [
    "### Table Assure : Supprimer Les lignes des assurés qui n'existent pas dans la table BonusMalus   "
   ]
  },
  {
   "cell_type": "code",
   "execution_count": 52,
   "metadata": {},
   "outputs": [],
   "source": [
    "Assure=Assure[Assure.CodeAssure_id.isin(BonusMalus.CodeAssure_id)]"
   ]
  },
  {
   "cell_type": "markdown",
   "metadata": {},
   "source": [
    "## Correspondance entre table générée :  Assure_Sinistres et la table Assure "
   ]
  },
  {
   "cell_type": "code",
   "execution_count": 53,
   "metadata": {},
   "outputs": [],
   "source": [
    "Assure_Sinistres=Assure_Sinistres[Assure_Sinistres.CodeAssure_id.isin(Assure.CodeAssure_id)]"
   ]
  },
  {
   "cell_type": "code",
   "execution_count": 54,
   "metadata": {},
   "outputs": [
    {
     "data": {
      "text/plain": [
       "True    2059\n",
       "Name: CodeAssure_id, dtype: int64"
      ]
     },
     "execution_count": 54,
     "metadata": {},
     "output_type": "execute_result"
    }
   ],
   "source": [
    "Assure_Sinistres.CodeAssure_id.isin(Assure.CodeAssure_id).value_counts()"
   ]
  },
  {
   "cell_type": "markdown",
   "metadata": {},
   "source": [
    "## Correspondance entre table : Assure et la table géneré Assure_Sinistres"
   ]
  },
  {
   "cell_type": "code",
   "execution_count": 55,
   "metadata": {},
   "outputs": [
    {
     "data": {
      "text/plain": [
       "False    12793\n",
       "True      2059\n",
       "Name: CodeAssure_id, dtype: int64"
      ]
     },
     "execution_count": 55,
     "metadata": {},
     "output_type": "execute_result"
    }
   ],
   "source": [
    "Assure.CodeAssure_id.isin(Assure_Sinistres.CodeAssure_id).value_counts()"
   ]
  },
  {
   "cell_type": "markdown",
   "metadata": {},
   "source": [
    "#### on va ajouter 12793 assurés a la nouvelle table géneré avec un nombre de sinistre égale à zéro "
   ]
  },
  {
   "cell_type": "markdown",
   "metadata": {},
   "source": [
    "#### 1) Faire une jointure entre les deux tables Bonus Malus - Assure pour ajouter d'autre axes d'analyse  : \n",
    "       -Date Affectation\n",
    "       -Classe BonusMalus Compagnie "
   ]
  },
  {
   "cell_type": "code",
   "execution_count": 56,
   "metadata": {},
   "outputs": [],
   "source": [
    "Assure=pd.merge(BonusMalus[['CodeAssure_id','CodePolice_id','classeBonusMalusCompagnie','DATE_AFFECTATION']],Assure,how='inner',on='CodeAssure_id')"
   ]
  },
  {
   "cell_type": "markdown",
   "metadata": {},
   "source": [
    "#### Faire une jointure entre la table assure et la nouvelle table géneré pour affecter a chaque assuré le nombre de sinistre et le nombre de sinistre corporel  "
   ]
  },
  {
   "cell_type": "code",
   "execution_count": 57,
   "metadata": {},
   "outputs": [],
   "source": [
    "Assure=pd.merge(Assure_Sinistres,Assure,how='right',on='CodeAssure_id')"
   ]
  },
  {
   "cell_type": "code",
   "execution_count": 58,
   "metadata": {},
   "outputs": [
    {
     "data": {
      "text/plain": [
       "Index(['CodeAssure_id', 'Nb_Sinistre_c', 'NombreTotalSinistres',\n",
       "       'CodePolice_id', 'classeBonusMalusCompagnie', 'DATE_AFFECTATION', '_id',\n",
       "       'gender', 'age', 'gouvernorat', 'secteur_activite', 'date_permis',\n",
       "       'compagnie_actuelle', 'usage', 'age_vehicule', 'nb_sinistres',\n",
       "       'ancienne_compagnie', 'satisfaction'],\n",
       "      dtype='object')"
      ]
     },
     "execution_count": 58,
     "metadata": {},
     "output_type": "execute_result"
    }
   ],
   "source": [
    "Assure.columns"
   ]
  },
  {
   "cell_type": "code",
   "execution_count": 59,
   "metadata": {},
   "outputs": [],
   "source": [
    "Assure['Nb_Sinistre_c']=Assure['Nb_Sinistre_c'].fillna(0)\n",
    "Assure['NombreTotalSinistres']=Assure['NombreTotalSinistres'].fillna(0)\n",
    "Assure['Nb_Sinistre_c']=Assure['Nb_Sinistre_c'].astype(int)\n",
    "Assure['NombreTotalSinistres']=Assure['NombreTotalSinistres'].astype(int)"
   ]
  },
  {
   "cell_type": "code",
   "execution_count": 60,
   "metadata": {},
   "outputs": [
    {
     "data": {
      "text/html": [
       "<div>\n",
       "<style scoped>\n",
       "    .dataframe tbody tr th:only-of-type {\n",
       "        vertical-align: middle;\n",
       "    }\n",
       "\n",
       "    .dataframe tbody tr th {\n",
       "        vertical-align: top;\n",
       "    }\n",
       "\n",
       "    .dataframe thead th {\n",
       "        text-align: right;\n",
       "    }\n",
       "</style>\n",
       "<table border=\"1\" class=\"dataframe\">\n",
       "  <thead>\n",
       "    <tr style=\"text-align: right;\">\n",
       "      <th></th>\n",
       "      <th>CodeAssure_id</th>\n",
       "      <th>Nb_Sinistre_c</th>\n",
       "      <th>NombreTotalSinistres</th>\n",
       "      <th>CodePolice_id</th>\n",
       "      <th>classeBonusMalusCompagnie</th>\n",
       "      <th>DATE_AFFECTATION</th>\n",
       "      <th>_id</th>\n",
       "      <th>gender</th>\n",
       "      <th>age</th>\n",
       "      <th>gouvernorat</th>\n",
       "      <th>secteur_activite</th>\n",
       "      <th>date_permis</th>\n",
       "      <th>compagnie_actuelle</th>\n",
       "      <th>usage</th>\n",
       "      <th>age_vehicule</th>\n",
       "      <th>nb_sinistres</th>\n",
       "      <th>ancienne_compagnie</th>\n",
       "      <th>satisfaction</th>\n",
       "    </tr>\n",
       "  </thead>\n",
       "  <tbody>\n",
       "    <tr>\n",
       "      <th>0</th>\n",
       "      <td>24431</td>\n",
       "      <td>1</td>\n",
       "      <td>2</td>\n",
       "      <td>278575</td>\n",
       "      <td>2</td>\n",
       "      <td>2017-11-25</td>\n",
       "      <td>7</td>\n",
       "      <td>male</td>\n",
       "      <td>31</td>\n",
       "      <td>Zaghouan</td>\n",
       "      <td>Banque</td>\n",
       "      <td>22/7/2009</td>\n",
       "      <td>Carte</td>\n",
       "      <td>Privé</td>\n",
       "      <td>13</td>\n",
       "      <td>1</td>\n",
       "      <td>Aucune</td>\n",
       "      <td>5</td>\n",
       "    </tr>\n",
       "    <tr>\n",
       "      <th>1</th>\n",
       "      <td>24431</td>\n",
       "      <td>1</td>\n",
       "      <td>2</td>\n",
       "      <td>450805</td>\n",
       "      <td>1</td>\n",
       "      <td>2017-07-04</td>\n",
       "      <td>7</td>\n",
       "      <td>male</td>\n",
       "      <td>31</td>\n",
       "      <td>Zaghouan</td>\n",
       "      <td>Banque</td>\n",
       "      <td>22/7/2009</td>\n",
       "      <td>Carte</td>\n",
       "      <td>Privé</td>\n",
       "      <td>13</td>\n",
       "      <td>1</td>\n",
       "      <td>Aucune</td>\n",
       "      <td>5</td>\n",
       "    </tr>\n",
       "    <tr>\n",
       "      <th>2</th>\n",
       "      <td>24431</td>\n",
       "      <td>1</td>\n",
       "      <td>2</td>\n",
       "      <td>436783</td>\n",
       "      <td>4</td>\n",
       "      <td>2017-05-30</td>\n",
       "      <td>7</td>\n",
       "      <td>male</td>\n",
       "      <td>31</td>\n",
       "      <td>Zaghouan</td>\n",
       "      <td>Banque</td>\n",
       "      <td>22/7/2009</td>\n",
       "      <td>Carte</td>\n",
       "      <td>Privé</td>\n",
       "      <td>13</td>\n",
       "      <td>1</td>\n",
       "      <td>Aucune</td>\n",
       "      <td>5</td>\n",
       "    </tr>\n",
       "    <tr>\n",
       "      <th>3</th>\n",
       "      <td>24431</td>\n",
       "      <td>1</td>\n",
       "      <td>2</td>\n",
       "      <td>410781</td>\n",
       "      <td>3</td>\n",
       "      <td>2016-04-01</td>\n",
       "      <td>7</td>\n",
       "      <td>male</td>\n",
       "      <td>31</td>\n",
       "      <td>Zaghouan</td>\n",
       "      <td>Banque</td>\n",
       "      <td>22/7/2009</td>\n",
       "      <td>Carte</td>\n",
       "      <td>Privé</td>\n",
       "      <td>13</td>\n",
       "      <td>1</td>\n",
       "      <td>Aucune</td>\n",
       "      <td>5</td>\n",
       "    </tr>\n",
       "    <tr>\n",
       "      <th>4</th>\n",
       "      <td>24431</td>\n",
       "      <td>1</td>\n",
       "      <td>2</td>\n",
       "      <td>410936</td>\n",
       "      <td>1</td>\n",
       "      <td>2016-04-01</td>\n",
       "      <td>7</td>\n",
       "      <td>male</td>\n",
       "      <td>31</td>\n",
       "      <td>Zaghouan</td>\n",
       "      <td>Banque</td>\n",
       "      <td>22/7/2009</td>\n",
       "      <td>Carte</td>\n",
       "      <td>Privé</td>\n",
       "      <td>13</td>\n",
       "      <td>1</td>\n",
       "      <td>Aucune</td>\n",
       "      <td>5</td>\n",
       "    </tr>\n",
       "    <tr>\n",
       "      <th>...</th>\n",
       "      <td>...</td>\n",
       "      <td>...</td>\n",
       "      <td>...</td>\n",
       "      <td>...</td>\n",
       "      <td>...</td>\n",
       "      <td>...</td>\n",
       "      <td>...</td>\n",
       "      <td>...</td>\n",
       "      <td>...</td>\n",
       "      <td>...</td>\n",
       "      <td>...</td>\n",
       "      <td>...</td>\n",
       "      <td>...</td>\n",
       "      <td>...</td>\n",
       "      <td>...</td>\n",
       "      <td>...</td>\n",
       "      <td>...</td>\n",
       "      <td>...</td>\n",
       "    </tr>\n",
       "    <tr>\n",
       "      <th>24542</th>\n",
       "      <td>499098</td>\n",
       "      <td>0</td>\n",
       "      <td>0</td>\n",
       "      <td>613044</td>\n",
       "      <td>1</td>\n",
       "      <td>2017-11-14</td>\n",
       "      <td>6389</td>\n",
       "      <td>female</td>\n",
       "      <td>38</td>\n",
       "      <td>Sfax</td>\n",
       "      <td>Banque</td>\n",
       "      <td>9/4/2003</td>\n",
       "      <td>Bh assurance</td>\n",
       "      <td>Privé</td>\n",
       "      <td>12</td>\n",
       "      <td>1</td>\n",
       "      <td>El amana takaful</td>\n",
       "      <td>2</td>\n",
       "    </tr>\n",
       "    <tr>\n",
       "      <th>24543</th>\n",
       "      <td>29471</td>\n",
       "      <td>0</td>\n",
       "      <td>0</td>\n",
       "      <td>36138</td>\n",
       "      <td>1</td>\n",
       "      <td>2016-04-01</td>\n",
       "      <td>61</td>\n",
       "      <td>male</td>\n",
       "      <td>24</td>\n",
       "      <td>Monastir</td>\n",
       "      <td>Banque</td>\n",
       "      <td>17/4/2016</td>\n",
       "      <td>Gat</td>\n",
       "      <td>Privé</td>\n",
       "      <td>14</td>\n",
       "      <td>4</td>\n",
       "      <td>Ctama</td>\n",
       "      <td>3</td>\n",
       "    </tr>\n",
       "    <tr>\n",
       "      <th>24544</th>\n",
       "      <td>29485</td>\n",
       "      <td>0</td>\n",
       "      <td>0</td>\n",
       "      <td>36150</td>\n",
       "      <td>4</td>\n",
       "      <td>2016-04-16</td>\n",
       "      <td>63</td>\n",
       "      <td>female</td>\n",
       "      <td>36</td>\n",
       "      <td>Ariana</td>\n",
       "      <td>Femme au foyer</td>\n",
       "      <td>22/1/2009</td>\n",
       "      <td>Zitouna takaful</td>\n",
       "      <td>Professionnel</td>\n",
       "      <td>2</td>\n",
       "      <td>0</td>\n",
       "      <td>Biat-assurance</td>\n",
       "      <td>2</td>\n",
       "    </tr>\n",
       "    <tr>\n",
       "      <th>24545</th>\n",
       "      <td>30475</td>\n",
       "      <td>0</td>\n",
       "      <td>0</td>\n",
       "      <td>36479</td>\n",
       "      <td>1</td>\n",
       "      <td>2016-06-08</td>\n",
       "      <td>82</td>\n",
       "      <td>male</td>\n",
       "      <td>26</td>\n",
       "      <td>Ariana</td>\n",
       "      <td>Automobile</td>\n",
       "      <td>24/7/2020</td>\n",
       "      <td>Assurance Ami</td>\n",
       "      <td>Professionnel</td>\n",
       "      <td>20</td>\n",
       "      <td>2</td>\n",
       "      <td>Aucune</td>\n",
       "      <td>4</td>\n",
       "    </tr>\n",
       "    <tr>\n",
       "      <th>24546</th>\n",
       "      <td>30716</td>\n",
       "      <td>0</td>\n",
       "      <td>0</td>\n",
       "      <td>36723</td>\n",
       "      <td>5</td>\n",
       "      <td>2016-05-28</td>\n",
       "      <td>86</td>\n",
       "      <td>male</td>\n",
       "      <td>38</td>\n",
       "      <td>B.Arous</td>\n",
       "      <td>Autre</td>\n",
       "      <td>18/7/2003</td>\n",
       "      <td>Star</td>\n",
       "      <td>Louage</td>\n",
       "      <td>5</td>\n",
       "      <td>3</td>\n",
       "      <td>Gat</td>\n",
       "      <td>3</td>\n",
       "    </tr>\n",
       "  </tbody>\n",
       "</table>\n",
       "<p>24547 rows × 18 columns</p>\n",
       "</div>"
      ],
      "text/plain": [
       "       CodeAssure_id  Nb_Sinistre_c  NombreTotalSinistres  CodePolice_id  \\\n",
       "0              24431              1                     2         278575   \n",
       "1              24431              1                     2         450805   \n",
       "2              24431              1                     2         436783   \n",
       "3              24431              1                     2         410781   \n",
       "4              24431              1                     2         410936   \n",
       "...              ...            ...                   ...            ...   \n",
       "24542         499098              0                     0         613044   \n",
       "24543          29471              0                     0          36138   \n",
       "24544          29485              0                     0          36150   \n",
       "24545          30475              0                     0          36479   \n",
       "24546          30716              0                     0          36723   \n",
       "\n",
       "       classeBonusMalusCompagnie DATE_AFFECTATION   _id  gender  age  \\\n",
       "0                              2       2017-11-25     7    male   31   \n",
       "1                              1       2017-07-04     7    male   31   \n",
       "2                              4       2017-05-30     7    male   31   \n",
       "3                              3       2016-04-01     7    male   31   \n",
       "4                              1       2016-04-01     7    male   31   \n",
       "...                          ...              ...   ...     ...  ...   \n",
       "24542                          1       2017-11-14  6389  female   38   \n",
       "24543                          1       2016-04-01    61    male   24   \n",
       "24544                          4       2016-04-16    63  female   36   \n",
       "24545                          1       2016-06-08    82    male   26   \n",
       "24546                          5       2016-05-28    86    male   38   \n",
       "\n",
       "      gouvernorat secteur_activite date_permis compagnie_actuelle  \\\n",
       "0        Zaghouan           Banque   22/7/2009              Carte   \n",
       "1        Zaghouan           Banque   22/7/2009              Carte   \n",
       "2        Zaghouan           Banque   22/7/2009              Carte   \n",
       "3        Zaghouan           Banque   22/7/2009              Carte   \n",
       "4        Zaghouan           Banque   22/7/2009              Carte   \n",
       "...           ...              ...         ...                ...   \n",
       "24542        Sfax           Banque    9/4/2003       Bh assurance   \n",
       "24543    Monastir           Banque   17/4/2016                Gat   \n",
       "24544      Ariana   Femme au foyer   22/1/2009    Zitouna takaful   \n",
       "24545      Ariana      Automobile    24/7/2020      Assurance Ami   \n",
       "24546     B.Arous            Autre   18/7/2003               Star   \n",
       "\n",
       "               usage  age_vehicule  nb_sinistres ancienne_compagnie  \\\n",
       "0              Privé            13             1             Aucune   \n",
       "1              Privé            13             1             Aucune   \n",
       "2              Privé            13             1             Aucune   \n",
       "3              Privé            13             1             Aucune   \n",
       "4              Privé            13             1             Aucune   \n",
       "...              ...           ...           ...                ...   \n",
       "24542          Privé            12             1   El amana takaful   \n",
       "24543          Privé            14             4              Ctama   \n",
       "24544  Professionnel             2             0     Biat-assurance   \n",
       "24545  Professionnel            20             2             Aucune   \n",
       "24546         Louage             5             3                Gat   \n",
       "\n",
       "       satisfaction  \n",
       "0                 5  \n",
       "1                 5  \n",
       "2                 5  \n",
       "3                 5  \n",
       "4                 5  \n",
       "...             ...  \n",
       "24542             2  \n",
       "24543             3  \n",
       "24544             2  \n",
       "24545             4  \n",
       "24546             3  \n",
       "\n",
       "[24547 rows x 18 columns]"
      ]
     },
     "execution_count": 60,
     "metadata": {},
     "output_type": "execute_result"
    }
   ],
   "source": [
    "Assure"
   ]
  },
  {
   "cell_type": "markdown",
   "metadata": {},
   "source": [
    "### Faire une jointure entre la table Assure et la table Police pour ajouter la date de signature du contrat d'assurance afin de calculer la duree entre la date effet police et la date d'affectation de la classe bonus Malus"
   ]
  },
  {
   "cell_type": "code",
   "execution_count": 61,
   "metadata": {},
   "outputs": [],
   "source": [
    "Assure=pd.merge(Assure,Police[['CodePolice_id','dateEffetPolice','Etat_Police','naturePolice','typeIntermediaire']],how='inner',on='CodePolice_id')"
   ]
  },
  {
   "cell_type": "code",
   "execution_count": 62,
   "metadata": {
    "scrolled": true
   },
   "outputs": [
    {
     "data": {
      "text/html": [
       "<div>\n",
       "<style scoped>\n",
       "    .dataframe tbody tr th:only-of-type {\n",
       "        vertical-align: middle;\n",
       "    }\n",
       "\n",
       "    .dataframe tbody tr th {\n",
       "        vertical-align: top;\n",
       "    }\n",
       "\n",
       "    .dataframe thead th {\n",
       "        text-align: right;\n",
       "    }\n",
       "</style>\n",
       "<table border=\"1\" class=\"dataframe\">\n",
       "  <thead>\n",
       "    <tr style=\"text-align: right;\">\n",
       "      <th></th>\n",
       "      <th>CodeAssure_id</th>\n",
       "      <th>Nb_Sinistre_c</th>\n",
       "      <th>NombreTotalSinistres</th>\n",
       "      <th>CodePolice_id</th>\n",
       "      <th>classeBonusMalusCompagnie</th>\n",
       "      <th>DATE_AFFECTATION</th>\n",
       "      <th>_id</th>\n",
       "      <th>gender</th>\n",
       "      <th>age</th>\n",
       "      <th>gouvernorat</th>\n",
       "      <th>...</th>\n",
       "      <th>compagnie_actuelle</th>\n",
       "      <th>usage</th>\n",
       "      <th>age_vehicule</th>\n",
       "      <th>nb_sinistres</th>\n",
       "      <th>ancienne_compagnie</th>\n",
       "      <th>satisfaction</th>\n",
       "      <th>dateEffetPolice</th>\n",
       "      <th>Etat_Police</th>\n",
       "      <th>naturePolice</th>\n",
       "      <th>typeIntermediaire</th>\n",
       "    </tr>\n",
       "  </thead>\n",
       "  <tbody>\n",
       "    <tr>\n",
       "      <th>0</th>\n",
       "      <td>24431</td>\n",
       "      <td>1</td>\n",
       "      <td>2</td>\n",
       "      <td>278575</td>\n",
       "      <td>2</td>\n",
       "      <td>2017-11-25</td>\n",
       "      <td>7</td>\n",
       "      <td>male</td>\n",
       "      <td>31</td>\n",
       "      <td>Zaghouan</td>\n",
       "      <td>...</td>\n",
       "      <td>Carte</td>\n",
       "      <td>Privé</td>\n",
       "      <td>13</td>\n",
       "      <td>1</td>\n",
       "      <td>Aucune</td>\n",
       "      <td>5</td>\n",
       "      <td>2014-11-25</td>\n",
       "      <td>V</td>\n",
       "      <td>R</td>\n",
       "      <td>1</td>\n",
       "    </tr>\n",
       "    <tr>\n",
       "      <th>1</th>\n",
       "      <td>24431</td>\n",
       "      <td>1</td>\n",
       "      <td>2</td>\n",
       "      <td>450805</td>\n",
       "      <td>1</td>\n",
       "      <td>2017-07-04</td>\n",
       "      <td>7</td>\n",
       "      <td>male</td>\n",
       "      <td>31</td>\n",
       "      <td>Zaghouan</td>\n",
       "      <td>...</td>\n",
       "      <td>Carte</td>\n",
       "      <td>Privé</td>\n",
       "      <td>13</td>\n",
       "      <td>1</td>\n",
       "      <td>Aucune</td>\n",
       "      <td>5</td>\n",
       "      <td>2017-07-04</td>\n",
       "      <td>V</td>\n",
       "      <td>R</td>\n",
       "      <td>3</td>\n",
       "    </tr>\n",
       "    <tr>\n",
       "      <th>2</th>\n",
       "      <td>24431</td>\n",
       "      <td>1</td>\n",
       "      <td>2</td>\n",
       "      <td>436783</td>\n",
       "      <td>4</td>\n",
       "      <td>2017-05-30</td>\n",
       "      <td>7</td>\n",
       "      <td>male</td>\n",
       "      <td>31</td>\n",
       "      <td>Zaghouan</td>\n",
       "      <td>...</td>\n",
       "      <td>Carte</td>\n",
       "      <td>Privé</td>\n",
       "      <td>13</td>\n",
       "      <td>1</td>\n",
       "      <td>Aucune</td>\n",
       "      <td>5</td>\n",
       "      <td>2015-05-30</td>\n",
       "      <td>V</td>\n",
       "      <td>R</td>\n",
       "      <td>3</td>\n",
       "    </tr>\n",
       "    <tr>\n",
       "      <th>3</th>\n",
       "      <td>24431</td>\n",
       "      <td>1</td>\n",
       "      <td>2</td>\n",
       "      <td>410781</td>\n",
       "      <td>3</td>\n",
       "      <td>2016-04-01</td>\n",
       "      <td>7</td>\n",
       "      <td>male</td>\n",
       "      <td>31</td>\n",
       "      <td>Zaghouan</td>\n",
       "      <td>...</td>\n",
       "      <td>Carte</td>\n",
       "      <td>Privé</td>\n",
       "      <td>13</td>\n",
       "      <td>1</td>\n",
       "      <td>Aucune</td>\n",
       "      <td>5</td>\n",
       "      <td>2014-04-01</td>\n",
       "      <td>V</td>\n",
       "      <td>R</td>\n",
       "      <td>3</td>\n",
       "    </tr>\n",
       "    <tr>\n",
       "      <th>4</th>\n",
       "      <td>24431</td>\n",
       "      <td>1</td>\n",
       "      <td>2</td>\n",
       "      <td>410936</td>\n",
       "      <td>1</td>\n",
       "      <td>2016-04-01</td>\n",
       "      <td>7</td>\n",
       "      <td>male</td>\n",
       "      <td>31</td>\n",
       "      <td>Zaghouan</td>\n",
       "      <td>...</td>\n",
       "      <td>Carte</td>\n",
       "      <td>Privé</td>\n",
       "      <td>13</td>\n",
       "      <td>1</td>\n",
       "      <td>Aucune</td>\n",
       "      <td>5</td>\n",
       "      <td>2016-04-01</td>\n",
       "      <td>V</td>\n",
       "      <td>R</td>\n",
       "      <td>3</td>\n",
       "    </tr>\n",
       "    <tr>\n",
       "      <th>...</th>\n",
       "      <td>...</td>\n",
       "      <td>...</td>\n",
       "      <td>...</td>\n",
       "      <td>...</td>\n",
       "      <td>...</td>\n",
       "      <td>...</td>\n",
       "      <td>...</td>\n",
       "      <td>...</td>\n",
       "      <td>...</td>\n",
       "      <td>...</td>\n",
       "      <td>...</td>\n",
       "      <td>...</td>\n",
       "      <td>...</td>\n",
       "      <td>...</td>\n",
       "      <td>...</td>\n",
       "      <td>...</td>\n",
       "      <td>...</td>\n",
       "      <td>...</td>\n",
       "      <td>...</td>\n",
       "      <td>...</td>\n",
       "      <td>...</td>\n",
       "    </tr>\n",
       "    <tr>\n",
       "      <th>24542</th>\n",
       "      <td>499098</td>\n",
       "      <td>0</td>\n",
       "      <td>0</td>\n",
       "      <td>613044</td>\n",
       "      <td>1</td>\n",
       "      <td>2017-11-14</td>\n",
       "      <td>6389</td>\n",
       "      <td>female</td>\n",
       "      <td>38</td>\n",
       "      <td>Sfax</td>\n",
       "      <td>...</td>\n",
       "      <td>Bh assurance</td>\n",
       "      <td>Privé</td>\n",
       "      <td>12</td>\n",
       "      <td>1</td>\n",
       "      <td>El amana takaful</td>\n",
       "      <td>2</td>\n",
       "      <td>2013-11-14</td>\n",
       "      <td>V</td>\n",
       "      <td>R</td>\n",
       "      <td>1</td>\n",
       "    </tr>\n",
       "    <tr>\n",
       "      <th>24543</th>\n",
       "      <td>29471</td>\n",
       "      <td>0</td>\n",
       "      <td>0</td>\n",
       "      <td>36138</td>\n",
       "      <td>1</td>\n",
       "      <td>2016-04-01</td>\n",
       "      <td>61</td>\n",
       "      <td>male</td>\n",
       "      <td>24</td>\n",
       "      <td>Monastir</td>\n",
       "      <td>...</td>\n",
       "      <td>Gat</td>\n",
       "      <td>Privé</td>\n",
       "      <td>14</td>\n",
       "      <td>4</td>\n",
       "      <td>Ctama</td>\n",
       "      <td>3</td>\n",
       "      <td>2016-04-01</td>\n",
       "      <td>V</td>\n",
       "      <td>R</td>\n",
       "      <td>3</td>\n",
       "    </tr>\n",
       "    <tr>\n",
       "      <th>24544</th>\n",
       "      <td>29485</td>\n",
       "      <td>0</td>\n",
       "      <td>0</td>\n",
       "      <td>36150</td>\n",
       "      <td>4</td>\n",
       "      <td>2016-04-16</td>\n",
       "      <td>63</td>\n",
       "      <td>female</td>\n",
       "      <td>36</td>\n",
       "      <td>Ariana</td>\n",
       "      <td>...</td>\n",
       "      <td>Zitouna takaful</td>\n",
       "      <td>Professionnel</td>\n",
       "      <td>2</td>\n",
       "      <td>0</td>\n",
       "      <td>Biat-assurance</td>\n",
       "      <td>2</td>\n",
       "      <td>2016-04-16</td>\n",
       "      <td>R</td>\n",
       "      <td>R</td>\n",
       "      <td>1</td>\n",
       "    </tr>\n",
       "    <tr>\n",
       "      <th>24545</th>\n",
       "      <td>30475</td>\n",
       "      <td>0</td>\n",
       "      <td>0</td>\n",
       "      <td>36479</td>\n",
       "      <td>1</td>\n",
       "      <td>2016-06-08</td>\n",
       "      <td>82</td>\n",
       "      <td>male</td>\n",
       "      <td>26</td>\n",
       "      <td>Ariana</td>\n",
       "      <td>...</td>\n",
       "      <td>Assurance Ami</td>\n",
       "      <td>Professionnel</td>\n",
       "      <td>20</td>\n",
       "      <td>2</td>\n",
       "      <td>Aucune</td>\n",
       "      <td>4</td>\n",
       "      <td>2009-06-08</td>\n",
       "      <td>R</td>\n",
       "      <td>R</td>\n",
       "      <td>1</td>\n",
       "    </tr>\n",
       "    <tr>\n",
       "      <th>24546</th>\n",
       "      <td>30716</td>\n",
       "      <td>0</td>\n",
       "      <td>0</td>\n",
       "      <td>36723</td>\n",
       "      <td>5</td>\n",
       "      <td>2016-05-28</td>\n",
       "      <td>86</td>\n",
       "      <td>male</td>\n",
       "      <td>38</td>\n",
       "      <td>B.Arous</td>\n",
       "      <td>...</td>\n",
       "      <td>Star</td>\n",
       "      <td>Louage</td>\n",
       "      <td>5</td>\n",
       "      <td>3</td>\n",
       "      <td>Gat</td>\n",
       "      <td>3</td>\n",
       "      <td>2013-05-28</td>\n",
       "      <td>R</td>\n",
       "      <td>R</td>\n",
       "      <td>1</td>\n",
       "    </tr>\n",
       "  </tbody>\n",
       "</table>\n",
       "<p>24547 rows × 22 columns</p>\n",
       "</div>"
      ],
      "text/plain": [
       "       CodeAssure_id  Nb_Sinistre_c  NombreTotalSinistres  CodePolice_id  \\\n",
       "0              24431              1                     2         278575   \n",
       "1              24431              1                     2         450805   \n",
       "2              24431              1                     2         436783   \n",
       "3              24431              1                     2         410781   \n",
       "4              24431              1                     2         410936   \n",
       "...              ...            ...                   ...            ...   \n",
       "24542         499098              0                     0         613044   \n",
       "24543          29471              0                     0          36138   \n",
       "24544          29485              0                     0          36150   \n",
       "24545          30475              0                     0          36479   \n",
       "24546          30716              0                     0          36723   \n",
       "\n",
       "       classeBonusMalusCompagnie DATE_AFFECTATION   _id  gender  age  \\\n",
       "0                              2       2017-11-25     7    male   31   \n",
       "1                              1       2017-07-04     7    male   31   \n",
       "2                              4       2017-05-30     7    male   31   \n",
       "3                              3       2016-04-01     7    male   31   \n",
       "4                              1       2016-04-01     7    male   31   \n",
       "...                          ...              ...   ...     ...  ...   \n",
       "24542                          1       2017-11-14  6389  female   38   \n",
       "24543                          1       2016-04-01    61    male   24   \n",
       "24544                          4       2016-04-16    63  female   36   \n",
       "24545                          1       2016-06-08    82    male   26   \n",
       "24546                          5       2016-05-28    86    male   38   \n",
       "\n",
       "      gouvernorat  ... compagnie_actuelle          usage age_vehicule  \\\n",
       "0        Zaghouan  ...              Carte          Privé           13   \n",
       "1        Zaghouan  ...              Carte          Privé           13   \n",
       "2        Zaghouan  ...              Carte          Privé           13   \n",
       "3        Zaghouan  ...              Carte          Privé           13   \n",
       "4        Zaghouan  ...              Carte          Privé           13   \n",
       "...           ...  ...                ...            ...          ...   \n",
       "24542        Sfax  ...       Bh assurance          Privé           12   \n",
       "24543    Monastir  ...                Gat          Privé           14   \n",
       "24544      Ariana  ...    Zitouna takaful  Professionnel            2   \n",
       "24545      Ariana  ...      Assurance Ami  Professionnel           20   \n",
       "24546     B.Arous  ...               Star         Louage            5   \n",
       "\n",
       "      nb_sinistres  ancienne_compagnie  satisfaction dateEffetPolice  \\\n",
       "0                1              Aucune             5      2014-11-25   \n",
       "1                1              Aucune             5      2017-07-04   \n",
       "2                1              Aucune             5      2015-05-30   \n",
       "3                1              Aucune             5      2014-04-01   \n",
       "4                1              Aucune             5      2016-04-01   \n",
       "...            ...                 ...           ...             ...   \n",
       "24542            1    El amana takaful             2      2013-11-14   \n",
       "24543            4               Ctama             3      2016-04-01   \n",
       "24544            0      Biat-assurance             2      2016-04-16   \n",
       "24545            2              Aucune             4      2009-06-08   \n",
       "24546            3                 Gat             3      2013-05-28   \n",
       "\n",
       "       Etat_Police naturePolice typeIntermediaire  \n",
       "0                V            R                 1  \n",
       "1                V            R                 3  \n",
       "2                V            R                 3  \n",
       "3                V            R                 3  \n",
       "4                V            R                 3  \n",
       "...            ...          ...               ...  \n",
       "24542            V            R                 1  \n",
       "24543            V            R                 3  \n",
       "24544            R            R                 1  \n",
       "24545            R            R                 1  \n",
       "24546            R            R                 1  \n",
       "\n",
       "[24547 rows x 22 columns]"
      ]
     },
     "execution_count": 62,
     "metadata": {},
     "output_type": "execute_result"
    }
   ],
   "source": [
    "Assure"
   ]
  },
  {
   "cell_type": "code",
   "execution_count": 63,
   "metadata": {},
   "outputs": [],
   "source": [
    "dates_affectation=[]\n",
    "for i in Assure['DATE_AFFECTATION'] : \n",
    "    dates_affectation.append(pd.to_datetime(i).year)"
   ]
  },
  {
   "cell_type": "code",
   "execution_count": 64,
   "metadata": {},
   "outputs": [],
   "source": [
    "dates_effet=[]\n",
    "for i in Assure['dateEffetPolice'] : \n",
    "    dates_effet.append(pd.to_datetime(i).year)"
   ]
  },
  {
   "cell_type": "code",
   "execution_count": 65,
   "metadata": {},
   "outputs": [],
   "source": [
    "Duree=[] \n",
    "for i in range(0,len(dates_affectation)) : \n",
    "    Duree.append(dates_affectation[i]-dates_effet[i])"
   ]
  },
  {
   "cell_type": "code",
   "execution_count": 66,
   "metadata": {},
   "outputs": [],
   "source": [
    "Assure.insert(3,\"Duree\",Duree,True)"
   ]
  },
  {
   "cell_type": "code",
   "execution_count": 67,
   "metadata": {},
   "outputs": [
    {
     "data": {
      "text/html": [
       "<div>\n",
       "<style scoped>\n",
       "    .dataframe tbody tr th:only-of-type {\n",
       "        vertical-align: middle;\n",
       "    }\n",
       "\n",
       "    .dataframe tbody tr th {\n",
       "        vertical-align: top;\n",
       "    }\n",
       "\n",
       "    .dataframe thead th {\n",
       "        text-align: right;\n",
       "    }\n",
       "</style>\n",
       "<table border=\"1\" class=\"dataframe\">\n",
       "  <thead>\n",
       "    <tr style=\"text-align: right;\">\n",
       "      <th></th>\n",
       "      <th>CodeAssure_id</th>\n",
       "      <th>Nb_Sinistre_c</th>\n",
       "      <th>NombreTotalSinistres</th>\n",
       "      <th>Duree</th>\n",
       "      <th>CodePolice_id</th>\n",
       "      <th>classeBonusMalusCompagnie</th>\n",
       "      <th>DATE_AFFECTATION</th>\n",
       "      <th>_id</th>\n",
       "      <th>gender</th>\n",
       "      <th>age</th>\n",
       "      <th>...</th>\n",
       "      <th>compagnie_actuelle</th>\n",
       "      <th>usage</th>\n",
       "      <th>age_vehicule</th>\n",
       "      <th>nb_sinistres</th>\n",
       "      <th>ancienne_compagnie</th>\n",
       "      <th>satisfaction</th>\n",
       "      <th>dateEffetPolice</th>\n",
       "      <th>Etat_Police</th>\n",
       "      <th>naturePolice</th>\n",
       "      <th>typeIntermediaire</th>\n",
       "    </tr>\n",
       "  </thead>\n",
       "  <tbody>\n",
       "    <tr>\n",
       "      <th>0</th>\n",
       "      <td>24431</td>\n",
       "      <td>1</td>\n",
       "      <td>2</td>\n",
       "      <td>3</td>\n",
       "      <td>278575</td>\n",
       "      <td>2</td>\n",
       "      <td>2017-11-25</td>\n",
       "      <td>7</td>\n",
       "      <td>male</td>\n",
       "      <td>31</td>\n",
       "      <td>...</td>\n",
       "      <td>Carte</td>\n",
       "      <td>Privé</td>\n",
       "      <td>13</td>\n",
       "      <td>1</td>\n",
       "      <td>Aucune</td>\n",
       "      <td>5</td>\n",
       "      <td>2014-11-25</td>\n",
       "      <td>V</td>\n",
       "      <td>R</td>\n",
       "      <td>1</td>\n",
       "    </tr>\n",
       "    <tr>\n",
       "      <th>1</th>\n",
       "      <td>24431</td>\n",
       "      <td>1</td>\n",
       "      <td>2</td>\n",
       "      <td>0</td>\n",
       "      <td>450805</td>\n",
       "      <td>1</td>\n",
       "      <td>2017-07-04</td>\n",
       "      <td>7</td>\n",
       "      <td>male</td>\n",
       "      <td>31</td>\n",
       "      <td>...</td>\n",
       "      <td>Carte</td>\n",
       "      <td>Privé</td>\n",
       "      <td>13</td>\n",
       "      <td>1</td>\n",
       "      <td>Aucune</td>\n",
       "      <td>5</td>\n",
       "      <td>2017-07-04</td>\n",
       "      <td>V</td>\n",
       "      <td>R</td>\n",
       "      <td>3</td>\n",
       "    </tr>\n",
       "    <tr>\n",
       "      <th>2</th>\n",
       "      <td>24431</td>\n",
       "      <td>1</td>\n",
       "      <td>2</td>\n",
       "      <td>2</td>\n",
       "      <td>436783</td>\n",
       "      <td>4</td>\n",
       "      <td>2017-05-30</td>\n",
       "      <td>7</td>\n",
       "      <td>male</td>\n",
       "      <td>31</td>\n",
       "      <td>...</td>\n",
       "      <td>Carte</td>\n",
       "      <td>Privé</td>\n",
       "      <td>13</td>\n",
       "      <td>1</td>\n",
       "      <td>Aucune</td>\n",
       "      <td>5</td>\n",
       "      <td>2015-05-30</td>\n",
       "      <td>V</td>\n",
       "      <td>R</td>\n",
       "      <td>3</td>\n",
       "    </tr>\n",
       "    <tr>\n",
       "      <th>3</th>\n",
       "      <td>24431</td>\n",
       "      <td>1</td>\n",
       "      <td>2</td>\n",
       "      <td>2</td>\n",
       "      <td>410781</td>\n",
       "      <td>3</td>\n",
       "      <td>2016-04-01</td>\n",
       "      <td>7</td>\n",
       "      <td>male</td>\n",
       "      <td>31</td>\n",
       "      <td>...</td>\n",
       "      <td>Carte</td>\n",
       "      <td>Privé</td>\n",
       "      <td>13</td>\n",
       "      <td>1</td>\n",
       "      <td>Aucune</td>\n",
       "      <td>5</td>\n",
       "      <td>2014-04-01</td>\n",
       "      <td>V</td>\n",
       "      <td>R</td>\n",
       "      <td>3</td>\n",
       "    </tr>\n",
       "    <tr>\n",
       "      <th>4</th>\n",
       "      <td>24431</td>\n",
       "      <td>1</td>\n",
       "      <td>2</td>\n",
       "      <td>0</td>\n",
       "      <td>410936</td>\n",
       "      <td>1</td>\n",
       "      <td>2016-04-01</td>\n",
       "      <td>7</td>\n",
       "      <td>male</td>\n",
       "      <td>31</td>\n",
       "      <td>...</td>\n",
       "      <td>Carte</td>\n",
       "      <td>Privé</td>\n",
       "      <td>13</td>\n",
       "      <td>1</td>\n",
       "      <td>Aucune</td>\n",
       "      <td>5</td>\n",
       "      <td>2016-04-01</td>\n",
       "      <td>V</td>\n",
       "      <td>R</td>\n",
       "      <td>3</td>\n",
       "    </tr>\n",
       "    <tr>\n",
       "      <th>...</th>\n",
       "      <td>...</td>\n",
       "      <td>...</td>\n",
       "      <td>...</td>\n",
       "      <td>...</td>\n",
       "      <td>...</td>\n",
       "      <td>...</td>\n",
       "      <td>...</td>\n",
       "      <td>...</td>\n",
       "      <td>...</td>\n",
       "      <td>...</td>\n",
       "      <td>...</td>\n",
       "      <td>...</td>\n",
       "      <td>...</td>\n",
       "      <td>...</td>\n",
       "      <td>...</td>\n",
       "      <td>...</td>\n",
       "      <td>...</td>\n",
       "      <td>...</td>\n",
       "      <td>...</td>\n",
       "      <td>...</td>\n",
       "      <td>...</td>\n",
       "    </tr>\n",
       "    <tr>\n",
       "      <th>24542</th>\n",
       "      <td>499098</td>\n",
       "      <td>0</td>\n",
       "      <td>0</td>\n",
       "      <td>4</td>\n",
       "      <td>613044</td>\n",
       "      <td>1</td>\n",
       "      <td>2017-11-14</td>\n",
       "      <td>6389</td>\n",
       "      <td>female</td>\n",
       "      <td>38</td>\n",
       "      <td>...</td>\n",
       "      <td>Bh assurance</td>\n",
       "      <td>Privé</td>\n",
       "      <td>12</td>\n",
       "      <td>1</td>\n",
       "      <td>El amana takaful</td>\n",
       "      <td>2</td>\n",
       "      <td>2013-11-14</td>\n",
       "      <td>V</td>\n",
       "      <td>R</td>\n",
       "      <td>1</td>\n",
       "    </tr>\n",
       "    <tr>\n",
       "      <th>24543</th>\n",
       "      <td>29471</td>\n",
       "      <td>0</td>\n",
       "      <td>0</td>\n",
       "      <td>0</td>\n",
       "      <td>36138</td>\n",
       "      <td>1</td>\n",
       "      <td>2016-04-01</td>\n",
       "      <td>61</td>\n",
       "      <td>male</td>\n",
       "      <td>24</td>\n",
       "      <td>...</td>\n",
       "      <td>Gat</td>\n",
       "      <td>Privé</td>\n",
       "      <td>14</td>\n",
       "      <td>4</td>\n",
       "      <td>Ctama</td>\n",
       "      <td>3</td>\n",
       "      <td>2016-04-01</td>\n",
       "      <td>V</td>\n",
       "      <td>R</td>\n",
       "      <td>3</td>\n",
       "    </tr>\n",
       "    <tr>\n",
       "      <th>24544</th>\n",
       "      <td>29485</td>\n",
       "      <td>0</td>\n",
       "      <td>0</td>\n",
       "      <td>0</td>\n",
       "      <td>36150</td>\n",
       "      <td>4</td>\n",
       "      <td>2016-04-16</td>\n",
       "      <td>63</td>\n",
       "      <td>female</td>\n",
       "      <td>36</td>\n",
       "      <td>...</td>\n",
       "      <td>Zitouna takaful</td>\n",
       "      <td>Professionnel</td>\n",
       "      <td>2</td>\n",
       "      <td>0</td>\n",
       "      <td>Biat-assurance</td>\n",
       "      <td>2</td>\n",
       "      <td>2016-04-16</td>\n",
       "      <td>R</td>\n",
       "      <td>R</td>\n",
       "      <td>1</td>\n",
       "    </tr>\n",
       "    <tr>\n",
       "      <th>24545</th>\n",
       "      <td>30475</td>\n",
       "      <td>0</td>\n",
       "      <td>0</td>\n",
       "      <td>7</td>\n",
       "      <td>36479</td>\n",
       "      <td>1</td>\n",
       "      <td>2016-06-08</td>\n",
       "      <td>82</td>\n",
       "      <td>male</td>\n",
       "      <td>26</td>\n",
       "      <td>...</td>\n",
       "      <td>Assurance Ami</td>\n",
       "      <td>Professionnel</td>\n",
       "      <td>20</td>\n",
       "      <td>2</td>\n",
       "      <td>Aucune</td>\n",
       "      <td>4</td>\n",
       "      <td>2009-06-08</td>\n",
       "      <td>R</td>\n",
       "      <td>R</td>\n",
       "      <td>1</td>\n",
       "    </tr>\n",
       "    <tr>\n",
       "      <th>24546</th>\n",
       "      <td>30716</td>\n",
       "      <td>0</td>\n",
       "      <td>0</td>\n",
       "      <td>3</td>\n",
       "      <td>36723</td>\n",
       "      <td>5</td>\n",
       "      <td>2016-05-28</td>\n",
       "      <td>86</td>\n",
       "      <td>male</td>\n",
       "      <td>38</td>\n",
       "      <td>...</td>\n",
       "      <td>Star</td>\n",
       "      <td>Louage</td>\n",
       "      <td>5</td>\n",
       "      <td>3</td>\n",
       "      <td>Gat</td>\n",
       "      <td>3</td>\n",
       "      <td>2013-05-28</td>\n",
       "      <td>R</td>\n",
       "      <td>R</td>\n",
       "      <td>1</td>\n",
       "    </tr>\n",
       "  </tbody>\n",
       "</table>\n",
       "<p>24547 rows × 23 columns</p>\n",
       "</div>"
      ],
      "text/plain": [
       "       CodeAssure_id  Nb_Sinistre_c  NombreTotalSinistres  Duree  \\\n",
       "0              24431              1                     2      3   \n",
       "1              24431              1                     2      0   \n",
       "2              24431              1                     2      2   \n",
       "3              24431              1                     2      2   \n",
       "4              24431              1                     2      0   \n",
       "...              ...            ...                   ...    ...   \n",
       "24542         499098              0                     0      4   \n",
       "24543          29471              0                     0      0   \n",
       "24544          29485              0                     0      0   \n",
       "24545          30475              0                     0      7   \n",
       "24546          30716              0                     0      3   \n",
       "\n",
       "       CodePolice_id  classeBonusMalusCompagnie DATE_AFFECTATION   _id  \\\n",
       "0             278575                          2       2017-11-25     7   \n",
       "1             450805                          1       2017-07-04     7   \n",
       "2             436783                          4       2017-05-30     7   \n",
       "3             410781                          3       2016-04-01     7   \n",
       "4             410936                          1       2016-04-01     7   \n",
       "...              ...                        ...              ...   ...   \n",
       "24542         613044                          1       2017-11-14  6389   \n",
       "24543          36138                          1       2016-04-01    61   \n",
       "24544          36150                          4       2016-04-16    63   \n",
       "24545          36479                          1       2016-06-08    82   \n",
       "24546          36723                          5       2016-05-28    86   \n",
       "\n",
       "       gender  age  ... compagnie_actuelle          usage age_vehicule  \\\n",
       "0        male   31  ...              Carte          Privé           13   \n",
       "1        male   31  ...              Carte          Privé           13   \n",
       "2        male   31  ...              Carte          Privé           13   \n",
       "3        male   31  ...              Carte          Privé           13   \n",
       "4        male   31  ...              Carte          Privé           13   \n",
       "...       ...  ...  ...                ...            ...          ...   \n",
       "24542  female   38  ...       Bh assurance          Privé           12   \n",
       "24543    male   24  ...                Gat          Privé           14   \n",
       "24544  female   36  ...    Zitouna takaful  Professionnel            2   \n",
       "24545    male   26  ...      Assurance Ami  Professionnel           20   \n",
       "24546    male   38  ...               Star         Louage            5   \n",
       "\n",
       "      nb_sinistres ancienne_compagnie  satisfaction  dateEffetPolice  \\\n",
       "0                1             Aucune             5       2014-11-25   \n",
       "1                1             Aucune             5       2017-07-04   \n",
       "2                1             Aucune             5       2015-05-30   \n",
       "3                1             Aucune             5       2014-04-01   \n",
       "4                1             Aucune             5       2016-04-01   \n",
       "...            ...                ...           ...              ...   \n",
       "24542            1   El amana takaful             2       2013-11-14   \n",
       "24543            4              Ctama             3       2016-04-01   \n",
       "24544            0     Biat-assurance             2       2016-04-16   \n",
       "24545            2             Aucune             4       2009-06-08   \n",
       "24546            3                Gat             3       2013-05-28   \n",
       "\n",
       "      Etat_Police  naturePolice typeIntermediaire  \n",
       "0               V             R                 1  \n",
       "1               V             R                 3  \n",
       "2               V             R                 3  \n",
       "3               V             R                 3  \n",
       "4               V             R                 3  \n",
       "...           ...           ...               ...  \n",
       "24542           V             R                 1  \n",
       "24543           V             R                 3  \n",
       "24544           R             R                 1  \n",
       "24545           R             R                 1  \n",
       "24546           R             R                 1  \n",
       "\n",
       "[24547 rows x 23 columns]"
      ]
     },
     "execution_count": 67,
     "metadata": {},
     "output_type": "execute_result"
    }
   ],
   "source": [
    "Assure"
   ]
  },
  {
   "cell_type": "code",
   "execution_count": 68,
   "metadata": {},
   "outputs": [],
   "source": [
    "BonusMalusCga=[]\n",
    "for i in range(0,len(Assure)) : \n",
    "    x=0\n",
    "    if Assure['NombreTotalSinistres'][i]==0 : \n",
    "        BonusMalusCga.append(8-int(Assure['Duree'][i]/2))\n",
    "    else :\n",
    "        if Assure['Nb_Sinistre_c'][i]!=0 : \n",
    "            x=x+2\n",
    "        if (Assure['NombreTotalSinistres'][i]-Assure['Nb_Sinistre_c'][i])!=0:\n",
    "            x=x+1\n",
    "        BonusMalusCga.append(8+x) "
   ]
  },
  {
   "cell_type": "code",
   "execution_count": 69,
   "metadata": {},
   "outputs": [],
   "source": [
    "Assure.insert(6,\"ClasseBonusMalusCGA\",BonusMalusCga,True)"
   ]
  },
  {
   "cell_type": "code",
   "execution_count": 70,
   "metadata": {},
   "outputs": [],
   "source": [
    "Fraude=[]\n",
    "for i in range(0,len(Assure)) : \n",
    "    x=0\n",
    "    if Assure['classeBonusMalusCompagnie'][i]==Assure['ClasseBonusMalusCGA'][i] : \n",
    "        Fraude.append(0)\n",
    "    else :\n",
    "        Fraude.append(1)"
   ]
  },
  {
   "cell_type": "code",
   "execution_count": 71,
   "metadata": {},
   "outputs": [],
   "source": [
    "Assure.insert(6,\"Fraude\",Fraude,True)"
   ]
  },
  {
   "cell_type": "code",
   "execution_count": 72,
   "metadata": {},
   "outputs": [
    {
     "name": "stderr",
     "output_type": "stream",
     "text": [
      "C:\\Users\\ASUS\\anaconda3\\lib\\site-packages\\seaborn\\_decorators.py:36: FutureWarning: Pass the following variable as a keyword arg: x. From version 0.12, the only valid positional argument will be `data`, and passing other arguments without an explicit keyword will result in an error or misinterpretation.\n",
      "  warnings.warn(\n"
     ]
    },
    {
     "data": {
      "image/png": "[encoded data removed]",
      "text/plain": [
       "<Figure size 432x288 with 1 Axes>"
      ]
     },
     "metadata": {
      "needs_background": "light"
     },
     "output_type": "display_data"
    }
   ],
   "source": [
    "import matplotlib.pyplot as plt \n",
    "import seaborn as sns\n",
    "sns.countplot(Assure['Fraude'],label=\"Count\")\n",
    "plt.show()"
   ]
  },
  {
   "cell_type": "code",
   "execution_count": 73,
   "metadata": {},
   "outputs": [],
   "source": [
    "Assure.drop(['DATE_AFFECTATION'],axis=1,inplace=True)"
   ]
  },
  {
   "cell_type": "code",
   "execution_count": 74,
   "metadata": {},
   "outputs": [
    {
     "data": {
      "text/html": [
       "<div>\n",
       "<style scoped>\n",
       "    .dataframe tbody tr th:only-of-type {\n",
       "        vertical-align: middle;\n",
       "    }\n",
       "\n",
       "    .dataframe tbody tr th {\n",
       "        vertical-align: top;\n",
       "    }\n",
       "\n",
       "    .dataframe thead th {\n",
       "        text-align: right;\n",
       "    }\n",
       "</style>\n",
       "<table border=\"1\" class=\"dataframe\">\n",
       "  <thead>\n",
       "    <tr style=\"text-align: right;\">\n",
       "      <th></th>\n",
       "      <th>gender</th>\n",
       "      <th>gouvernorat</th>\n",
       "      <th>secteur_activite</th>\n",
       "      <th>date_permis</th>\n",
       "      <th>compagnie_actuelle</th>\n",
       "      <th>usage</th>\n",
       "      <th>ancienne_compagnie</th>\n",
       "      <th>dateEffetPolice</th>\n",
       "      <th>Etat_Police</th>\n",
       "      <th>naturePolice</th>\n",
       "    </tr>\n",
       "  </thead>\n",
       "  <tbody>\n",
       "    <tr>\n",
       "      <th>0</th>\n",
       "      <td>1</td>\n",
       "      <td>12</td>\n",
       "      <td>3</td>\n",
       "      <td>2930</td>\n",
       "      <td>4</td>\n",
       "      <td>2</td>\n",
       "      <td>3</td>\n",
       "      <td>2304</td>\n",
       "      <td>2</td>\n",
       "      <td>0</td>\n",
       "    </tr>\n",
       "    <tr>\n",
       "      <th>1</th>\n",
       "      <td>1</td>\n",
       "      <td>12</td>\n",
       "      <td>3</td>\n",
       "      <td>2930</td>\n",
       "      <td>4</td>\n",
       "      <td>2</td>\n",
       "      <td>3</td>\n",
       "      <td>3239</td>\n",
       "      <td>2</td>\n",
       "      <td>0</td>\n",
       "    </tr>\n",
       "    <tr>\n",
       "      <th>2</th>\n",
       "      <td>1</td>\n",
       "      <td>12</td>\n",
       "      <td>3</td>\n",
       "      <td>2930</td>\n",
       "      <td>4</td>\n",
       "      <td>2</td>\n",
       "      <td>3</td>\n",
       "      <td>2482</td>\n",
       "      <td>2</td>\n",
       "      <td>0</td>\n",
       "    </tr>\n",
       "    <tr>\n",
       "      <th>3</th>\n",
       "      <td>1</td>\n",
       "      <td>12</td>\n",
       "      <td>3</td>\n",
       "      <td>2930</td>\n",
       "      <td>4</td>\n",
       "      <td>2</td>\n",
       "      <td>3</td>\n",
       "      <td>2078</td>\n",
       "      <td>2</td>\n",
       "      <td>0</td>\n",
       "    </tr>\n",
       "    <tr>\n",
       "      <th>4</th>\n",
       "      <td>1</td>\n",
       "      <td>12</td>\n",
       "      <td>3</td>\n",
       "      <td>2930</td>\n",
       "      <td>4</td>\n",
       "      <td>2</td>\n",
       "      <td>3</td>\n",
       "      <td>2785</td>\n",
       "      <td>2</td>\n",
       "      <td>0</td>\n",
       "    </tr>\n",
       "    <tr>\n",
       "      <th>5</th>\n",
       "      <td>1</td>\n",
       "      <td>12</td>\n",
       "      <td>3</td>\n",
       "      <td>2930</td>\n",
       "      <td>4</td>\n",
       "      <td>2</td>\n",
       "      <td>3</td>\n",
       "      <td>2116</td>\n",
       "      <td>2</td>\n",
       "      <td>0</td>\n",
       "    </tr>\n",
       "    <tr>\n",
       "      <th>6</th>\n",
       "      <td>0</td>\n",
       "      <td>5</td>\n",
       "      <td>6</td>\n",
       "      <td>259</td>\n",
       "      <td>5</td>\n",
       "      <td>2</td>\n",
       "      <td>4</td>\n",
       "      <td>547</td>\n",
       "      <td>0</td>\n",
       "      <td>0</td>\n",
       "    </tr>\n",
       "    <tr>\n",
       "      <th>7</th>\n",
       "      <td>0</td>\n",
       "      <td>5</td>\n",
       "      <td>6</td>\n",
       "      <td>259</td>\n",
       "      <td>5</td>\n",
       "      <td>2</td>\n",
       "      <td>4</td>\n",
       "      <td>757</td>\n",
       "      <td>0</td>\n",
       "      <td>0</td>\n",
       "    </tr>\n",
       "    <tr>\n",
       "      <th>8</th>\n",
       "      <td>0</td>\n",
       "      <td>10</td>\n",
       "      <td>8</td>\n",
       "      <td>288</td>\n",
       "      <td>12</td>\n",
       "      <td>2</td>\n",
       "      <td>15</td>\n",
       "      <td>1620</td>\n",
       "      <td>0</td>\n",
       "      <td>0</td>\n",
       "    </tr>\n",
       "    <tr>\n",
       "      <th>9</th>\n",
       "      <td>1</td>\n",
       "      <td>12</td>\n",
       "      <td>6</td>\n",
       "      <td>2141</td>\n",
       "      <td>12</td>\n",
       "      <td>3</td>\n",
       "      <td>9</td>\n",
       "      <td>2603</td>\n",
       "      <td>0</td>\n",
       "      <td>0</td>\n",
       "    </tr>\n",
       "  </tbody>\n",
       "</table>\n",
       "</div>"
      ],
      "text/plain": [
       "   gender  gouvernorat  secteur_activite  date_permis  compagnie_actuelle  \\\n",
       "0       1           12                 3         2930                   4   \n",
       "1       1           12                 3         2930                   4   \n",
       "2       1           12                 3         2930                   4   \n",
       "3       1           12                 3         2930                   4   \n",
       "4       1           12                 3         2930                   4   \n",
       "5       1           12                 3         2930                   4   \n",
       "6       0            5                 6          259                   5   \n",
       "7       0            5                 6          259                   5   \n",
       "8       0           10                 8          288                  12   \n",
       "9       1           12                 6         2141                  12   \n",
       "\n",
       "   usage  ancienne_compagnie  dateEffetPolice  Etat_Police  naturePolice  \n",
       "0      2                   3             2304            2             0  \n",
       "1      2                   3             3239            2             0  \n",
       "2      2                   3             2482            2             0  \n",
       "3      2                   3             2078            2             0  \n",
       "4      2                   3             2785            2             0  \n",
       "5      2                   3             2116            2             0  \n",
       "6      2                   4              547            0             0  \n",
       "7      2                   4              757            0             0  \n",
       "8      2                  15             1620            0             0  \n",
       "9      3                   9             2603            0             0  "
      ]
     },
     "execution_count": 74,
     "metadata": {},
     "output_type": "execute_result"
    }
   ],
   "source": [
    "# apply le on categorical feature columns\n",
    "mask = Assure.dtypes==object\n",
    "categorical_cols =  Assure.columns[mask].tolist()\n",
    "# import labelencoder\n",
    "from sklearn.preprocessing import LabelEncoder\n",
    "# instantiate labelencoder object\n",
    "le = LabelEncoder()\n",
    "Assure[categorical_cols] = Assure[categorical_cols].apply(lambda col: le.fit_transform(col))\n",
    "Assure[categorical_cols].head(10)"
   ]
  },
  {
   "cell_type": "code",
   "execution_count": 75,
   "metadata": {},
   "outputs": [],
   "source": [
    "from imblearn.under_sampling import RandomUnderSampler\n",
    "under = RandomUnderSampler()"
   ]
  },
  {
   "cell_type": "code",
   "execution_count": 76,
   "metadata": {},
   "outputs": [],
   "source": [
    "x=Assure.drop(['Fraude'],axis=1)\n",
    "y=Assure['Fraude']"
   ]
  },
  {
   "cell_type": "code",
   "execution_count": 77,
   "metadata": {},
   "outputs": [],
   "source": [
    "x_under, y_under = under.fit_resample(x, y)"
   ]
  },
  {
   "cell_type": "code",
   "execution_count": 78,
   "metadata": {},
   "outputs": [],
   "source": [
    "y_under.to_excel(\"y_under.xlsx\")"
   ]
  },
  {
   "cell_type": "code",
   "execution_count": 79,
   "metadata": {},
   "outputs": [
    {
     "name": "stderr",
     "output_type": "stream",
     "text": [
      "C:\\Users\\ASUS\\anaconda3\\lib\\site-packages\\seaborn\\_decorators.py:36: FutureWarning: Pass the following variable as a keyword arg: x. From version 0.12, the only valid positional argument will be `data`, and passing other arguments without an explicit keyword will result in an error or misinterpretation.\n",
      "  warnings.warn(\n"
     ]
    },
    {
     "data": {
      "image/png": "[encoded data removed]",
      "text/plain": [
       "<Figure size 432x288 with 1 Axes>"
      ]
     },
     "metadata": {
      "needs_background": "light"
     },
     "output_type": "display_data"
    }
   ],
   "source": [
    "sns.countplot(y_under,label=\"Count\")\n",
    "plt.show()"
   ]
  },
  {
   "cell_type": "code",
   "execution_count": 80,
   "metadata": {},
   "outputs": [],
   "source": [
    "#getting the feature after feature selection, we dropped 'typePolice' because it was not statistically significative on the chi squared test\n",
    "features=['Nb_Sinistre_c', 'NombreTotalSinistres', 'Duree', 'classeBonusMalusCompagnie',\n",
    "       'ClasseBonusMalusCGA', 'Etat_Police', 'naturePolice',\n",
    "       'typeIntermediaire']\n",
    "x_under=x_under[features]"
   ]
  },
  {
   "cell_type": "code",
   "execution_count": 81,
   "metadata": {},
   "outputs": [
    {
     "data": {
      "text/html": [
       "<div>\n",
       "<style scoped>\n",
       "    .dataframe tbody tr th:only-of-type {\n",
       "        vertical-align: middle;\n",
       "    }\n",
       "\n",
       "    .dataframe tbody tr th {\n",
       "        vertical-align: top;\n",
       "    }\n",
       "\n",
       "    .dataframe thead th {\n",
       "        text-align: right;\n",
       "    }\n",
       "</style>\n",
       "<table border=\"1\" class=\"dataframe\">\n",
       "  <thead>\n",
       "    <tr style=\"text-align: right;\">\n",
       "      <th></th>\n",
       "      <th>Nb_Sinistre_c</th>\n",
       "      <th>NombreTotalSinistres</th>\n",
       "      <th>Duree</th>\n",
       "      <th>classeBonusMalusCompagnie</th>\n",
       "      <th>ClasseBonusMalusCGA</th>\n",
       "      <th>Etat_Police</th>\n",
       "      <th>naturePolice</th>\n",
       "      <th>typeIntermediaire</th>\n",
       "    </tr>\n",
       "  </thead>\n",
       "  <tbody>\n",
       "    <tr>\n",
       "      <th>0</th>\n",
       "      <td>1</td>\n",
       "      <td>3</td>\n",
       "      <td>4</td>\n",
       "      <td>11</td>\n",
       "      <td>11</td>\n",
       "      <td>2</td>\n",
       "      <td>0</td>\n",
       "      <td>1</td>\n",
       "    </tr>\n",
       "    <tr>\n",
       "      <th>1</th>\n",
       "      <td>0</td>\n",
       "      <td>5</td>\n",
       "      <td>2</td>\n",
       "      <td>9</td>\n",
       "      <td>9</td>\n",
       "      <td>2</td>\n",
       "      <td>0</td>\n",
       "      <td>1</td>\n",
       "    </tr>\n",
       "    <tr>\n",
       "      <th>2</th>\n",
       "      <td>0</td>\n",
       "      <td>5</td>\n",
       "      <td>2</td>\n",
       "      <td>9</td>\n",
       "      <td>9</td>\n",
       "      <td>0</td>\n",
       "      <td>0</td>\n",
       "      <td>2</td>\n",
       "    </tr>\n",
       "    <tr>\n",
       "      <th>3</th>\n",
       "      <td>0</td>\n",
       "      <td>2</td>\n",
       "      <td>2</td>\n",
       "      <td>9</td>\n",
       "      <td>9</td>\n",
       "      <td>0</td>\n",
       "      <td>0</td>\n",
       "      <td>1</td>\n",
       "    </tr>\n",
       "    <tr>\n",
       "      <th>4</th>\n",
       "      <td>0</td>\n",
       "      <td>2</td>\n",
       "      <td>3</td>\n",
       "      <td>9</td>\n",
       "      <td>9</td>\n",
       "      <td>2</td>\n",
       "      <td>0</td>\n",
       "      <td>1</td>\n",
       "    </tr>\n",
       "    <tr>\n",
       "      <th>...</th>\n",
       "      <td>...</td>\n",
       "      <td>...</td>\n",
       "      <td>...</td>\n",
       "      <td>...</td>\n",
       "      <td>...</td>\n",
       "      <td>...</td>\n",
       "      <td>...</td>\n",
       "      <td>...</td>\n",
       "    </tr>\n",
       "    <tr>\n",
       "      <th>4127</th>\n",
       "      <td>0</td>\n",
       "      <td>0</td>\n",
       "      <td>0</td>\n",
       "      <td>5</td>\n",
       "      <td>8</td>\n",
       "      <td>0</td>\n",
       "      <td>0</td>\n",
       "      <td>1</td>\n",
       "    </tr>\n",
       "    <tr>\n",
       "      <th>4128</th>\n",
       "      <td>0</td>\n",
       "      <td>5</td>\n",
       "      <td>0</td>\n",
       "      <td>4</td>\n",
       "      <td>9</td>\n",
       "      <td>2</td>\n",
       "      <td>0</td>\n",
       "      <td>1</td>\n",
       "    </tr>\n",
       "    <tr>\n",
       "      <th>4129</th>\n",
       "      <td>72</td>\n",
       "      <td>1186</td>\n",
       "      <td>0</td>\n",
       "      <td>4</td>\n",
       "      <td>11</td>\n",
       "      <td>2</td>\n",
       "      <td>0</td>\n",
       "      <td>2</td>\n",
       "    </tr>\n",
       "    <tr>\n",
       "      <th>4130</th>\n",
       "      <td>0</td>\n",
       "      <td>0</td>\n",
       "      <td>0</td>\n",
       "      <td>3</td>\n",
       "      <td>8</td>\n",
       "      <td>0</td>\n",
       "      <td>0</td>\n",
       "      <td>1</td>\n",
       "    </tr>\n",
       "    <tr>\n",
       "      <th>4131</th>\n",
       "      <td>0</td>\n",
       "      <td>0</td>\n",
       "      <td>0</td>\n",
       "      <td>4</td>\n",
       "      <td>8</td>\n",
       "      <td>0</td>\n",
       "      <td>0</td>\n",
       "      <td>1</td>\n",
       "    </tr>\n",
       "  </tbody>\n",
       "</table>\n",
       "<p>4132 rows × 8 columns</p>\n",
       "</div>"
      ],
      "text/plain": [
       "      Nb_Sinistre_c  NombreTotalSinistres  Duree  classeBonusMalusCompagnie  \\\n",
       "0                 1                     3      4                         11   \n",
       "1                 0                     5      2                          9   \n",
       "2                 0                     5      2                          9   \n",
       "3                 0                     2      2                          9   \n",
       "4                 0                     2      3                          9   \n",
       "...             ...                   ...    ...                        ...   \n",
       "4127              0                     0      0                          5   \n",
       "4128              0                     5      0                          4   \n",
       "4129             72                  1186      0                          4   \n",
       "4130              0                     0      0                          3   \n",
       "4131              0                     0      0                          4   \n",
       "\n",
       "      ClasseBonusMalusCGA  Etat_Police  naturePolice  typeIntermediaire  \n",
       "0                      11            2             0                  1  \n",
       "1                       9            2             0                  1  \n",
       "2                       9            0             0                  2  \n",
       "3                       9            0             0                  1  \n",
       "4                       9            2             0                  1  \n",
       "...                   ...          ...           ...                ...  \n",
       "4127                    8            0             0                  1  \n",
       "4128                    9            2             0                  1  \n",
       "4129                   11            2             0                  2  \n",
       "4130                    8            0             0                  1  \n",
       "4131                    8            0             0                  1  \n",
       "\n",
       "[4132 rows x 8 columns]"
      ]
     },
     "execution_count": 81,
     "metadata": {},
     "output_type": "execute_result"
    }
   ],
   "source": [
    "x_under"
   ]
  },
  {
   "cell_type": "code",
   "execution_count": 82,
   "metadata": {},
   "outputs": [],
   "source": [
    "x_under.to_excel(\"x_under.xlsx\")"
   ]
  },
  {
   "cell_type": "code",
   "execution_count": 82,
   "metadata": {},
   "outputs": [],
   "source": [
    "from sklearn.model_selection import cross_val_score\n",
    "import numpy as np\n",
    "from sklearn.metrics import accuracy_score\n",
    "from sklearn.metrics import recall_score\n",
    "from sklearn.metrics import precision_score\n",
    "from sklearn.metrics import f1_score\n",
    "from sklearn.model_selection import train_test_split\n",
    "from sklearn.metrics import classification_report"
   ]
  },
  {
   "cell_type": "code",
   "execution_count": 83,
   "metadata": {},
   "outputs": [],
   "source": [
    "train_X, test_X, train_y, test_y = train_test_split(\n",
    "   x_under, y_under, test_size=0.2,random_state=0)"
   ]
  },
  {
   "cell_type": "code",
   "execution_count": 86,
   "metadata": {},
   "outputs": [
    {
     "data": {
      "text/plain": [
       "0.9866989117291415"
      ]
     },
     "execution_count": 86,
     "metadata": {},
     "output_type": "execute_result"
    }
   ],
   "source": [
    "knn = KNeighborsClassifier(n_neighbors = 3)\n",
    "knn.fit(train_X, train_y)\n",
    "predictions_knn = knn.predict(test_X)\n",
    "acc_knn = accuracy_score(test_y, predictions_knn)\n",
    "acc_knn"
   ]
  },
  {
   "cell_type": "code",
   "execution_count": 87,
   "metadata": {},
   "outputs": [
    {
     "name": "stdout",
     "output_type": "stream",
     "text": [
      "              precision    recall  f1-score   support\n",
      "\n",
      "           0       0.98      0.99      0.99       425\n",
      "           1       0.99      0.98      0.99       402\n",
      "\n",
      "    accuracy                           0.99       827\n",
      "   macro avg       0.99      0.99      0.99       827\n",
      "weighted avg       0.99      0.99      0.99       827\n",
      "\n"
     ]
    }
   ],
   "source": [
    "y_pred=knn.predict(test_X)\n",
    "print(classification_report(test_y, y_pred))"
   ]
  },
  {
   "cell_type": "code",
   "execution_count": 88,
   "metadata": {},
   "outputs": [
    {
     "data": {
      "text/plain": [
       "0.9673518742442564"
      ]
     },
     "execution_count": 88,
     "metadata": {},
     "output_type": "execute_result"
    }
   ],
   "source": [
    "# Stochastic Gradient Descent\n",
    "from sklearn.linear_model import SGDClassifier\n",
    "\n",
    "sgd = SGDClassifier()\n",
    "sgd.fit(train_X, train_y)\n",
    "predictions = sgd.predict(test_X)\n",
    "acc_sgd = accuracy_score(test_y, predictions)\n",
    "acc_sgd"
   ]
  },
  {
   "cell_type": "code",
   "execution_count": 89,
   "metadata": {},
   "outputs": [
    {
     "name": "stdout",
     "output_type": "stream",
     "text": [
      "              precision    recall  f1-score   support\n",
      "\n",
      "           0       0.94      1.00      0.97       425\n",
      "           1       1.00      0.93      0.97       402\n",
      "\n",
      "    accuracy                           0.97       827\n",
      "   macro avg       0.97      0.97      0.97       827\n",
      "weighted avg       0.97      0.97      0.97       827\n",
      "\n"
     ]
    }
   ],
   "source": [
    "y_pred=sgd.predict(test_X)\n",
    "print(classification_report(test_y, y_pred))"
   ]
  },
  {
   "cell_type": "code",
   "execution_count": 90,
   "metadata": {},
   "outputs": [
    {
     "data": {
      "text/plain": [
       "0.6964933494558646"
      ]
     },
     "execution_count": 90,
     "metadata": {},
     "output_type": "execute_result"
    }
   ],
   "source": [
    "from sklearn.naive_bayes import GaussianNB\n",
    "\n",
    "gaussian = GaussianNB()\n",
    "gaussian.fit(train_X, train_y)\n",
    "predictions = gaussian.predict(test_X)\n",
    "acc_gaussian = accuracy_score(test_y, predictions)\n",
    "acc_gaussian"
   ]
  },
  {
   "cell_type": "code",
   "execution_count": 91,
   "metadata": {},
   "outputs": [
    {
     "name": "stdout",
     "output_type": "stream",
     "text": [
      "              precision    recall  f1-score   support\n",
      "\n",
      "           0       0.63      0.97      0.77       425\n",
      "           1       0.92      0.41      0.57       402\n",
      "\n",
      "    accuracy                           0.70       827\n",
      "   macro avg       0.78      0.69      0.67       827\n",
      "weighted avg       0.77      0.70      0.67       827\n",
      "\n"
     ]
    }
   ],
   "source": [
    "y_pred=gaussian.predict(test_X)\n",
    "print(classification_report(test_y, y_pred))"
   ]
  },
  {
   "cell_type": "code",
   "execution_count": 92,
   "metadata": {},
   "outputs": [
    {
     "data": {
      "text/plain": [
       "0.9685610640870617"
      ]
     },
     "execution_count": 92,
     "metadata": {},
     "output_type": "execute_result"
    }
   ],
   "source": [
    "from sklearn.discriminant_analysis import LinearDiscriminantAnalysis\n",
    "clf = LinearDiscriminantAnalysis()\n",
    "clf.fit(train_X, train_y)\n",
    "predictions = clf.predict(test_X)\n",
    "acc_lda = accuracy_score(test_y, predictions)\n",
    "acc_lda"
   ]
  },
  {
   "cell_type": "code",
   "execution_count": 93,
   "metadata": {},
   "outputs": [
    {
     "data": {
      "text/plain": [
       "0.992744860943168"
      ]
     },
     "execution_count": 93,
     "metadata": {},
     "output_type": "execute_result"
    }
   ],
   "source": [
    "from sklearn.ensemble import RandomForestClassifier\n",
    "clf = RandomForestClassifier(n_estimators=15)\n",
    "clf.fit(train_X, train_y)\n",
    "predictions = clf.predict(test_X)\n",
    "acc_rd = accuracy_score(test_y, predictions)\n",
    "acc_rd"
   ]
  },
  {
   "cell_type": "code",
   "execution_count": 94,
   "metadata": {},
   "outputs": [
    {
     "name": "stdout",
     "output_type": "stream",
     "text": [
      "              precision    recall  f1-score   support\n",
      "\n",
      "           0       0.99      1.00      0.99       425\n",
      "           1       1.00      0.99      0.99       402\n",
      "\n",
      "    accuracy                           0.99       827\n",
      "   macro avg       0.99      0.99      0.99       827\n",
      "weighted avg       0.99      0.99      0.99       827\n",
      "\n"
     ]
    }
   ],
   "source": [
    "y_pred=clf.predict(test_X)\n",
    "print(classification_report(test_y, y_pred))"
   ]
  },
  {
   "cell_type": "code",
   "execution_count": 95,
   "metadata": {},
   "outputs": [
    {
     "data": {
      "text/html": [
       "<div>\n",
       "<style scoped>\n",
       "    .dataframe tbody tr th:only-of-type {\n",
       "        vertical-align: middle;\n",
       "    }\n",
       "\n",
       "    .dataframe tbody tr th {\n",
       "        vertical-align: top;\n",
       "    }\n",
       "\n",
       "    .dataframe thead th {\n",
       "        text-align: right;\n",
       "    }\n",
       "</style>\n",
       "<table border=\"1\" class=\"dataframe\">\n",
       "  <thead>\n",
       "    <tr style=\"text-align: right;\">\n",
       "      <th></th>\n",
       "      <th>Model</th>\n",
       "      <th>Score</th>\n",
       "    </tr>\n",
       "  </thead>\n",
       "  <tbody>\n",
       "    <tr>\n",
       "      <th>1</th>\n",
       "      <td>Random Forest</td>\n",
       "      <td>0.992745</td>\n",
       "    </tr>\n",
       "    <tr>\n",
       "      <th>0</th>\n",
       "      <td>KNN</td>\n",
       "      <td>0.986699</td>\n",
       "    </tr>\n",
       "    <tr>\n",
       "      <th>2</th>\n",
       "      <td>Linear Discriminant Analysis</td>\n",
       "      <td>0.968561</td>\n",
       "    </tr>\n",
       "    <tr>\n",
       "      <th>4</th>\n",
       "      <td>SGD Classifier</td>\n",
       "      <td>0.967352</td>\n",
       "    </tr>\n",
       "    <tr>\n",
       "      <th>3</th>\n",
       "      <td>Gaussian Naive Bayes</td>\n",
       "      <td>0.696493</td>\n",
       "    </tr>\n",
       "  </tbody>\n",
       "</table>\n",
       "</div>"
      ],
      "text/plain": [
       "                          Model     Score\n",
       "1                 Random Forest  0.992745\n",
       "0                           KNN  0.986699\n",
       "2  Linear Discriminant Analysis  0.968561\n",
       "4                SGD Classifier  0.967352\n",
       "3          Gaussian Naive Bayes  0.696493"
      ]
     },
     "execution_count": 95,
     "metadata": {},
     "output_type": "execute_result"
    }
   ],
   "source": [
    "models = pd.DataFrame({\n",
    "    'Model': ['KNN',\n",
    "              'Random Forest',  \n",
    "              'Linear Discriminant Analysis',\n",
    "              'Gaussian Naive Bayes',\n",
    "              'SGD Classifier'],\n",
    "    'Score': [acc_knn, \n",
    "              acc_rd, \n",
    "              acc_lda, \n",
    "              acc_gaussian,\n",
    "              acc_sgd\n",
    "             ]})\n",
    "models.sort_values(by=\"Score\",ascending=False)"
   ]
  },
  {
   "cell_type": "code",
   "execution_count": 115,
   "metadata": {},
   "outputs": [],
   "source": [
    "y=Assure[Assure.Fraude==0][\"ClasseBonusMalusCGA\"]\n",
    "x=Assure[Assure.Fraude==0][features].drop(['ClasseBonusMalusCGA','classeBonusMalusCompagnie'],axis=1)"
   ]
  },
  {
   "cell_type": "code",
   "execution_count": 116,
   "metadata": {},
   "outputs": [
    {
     "data": {
      "text/html": [
       "<div>\n",
       "<style scoped>\n",
       "    .dataframe tbody tr th:only-of-type {\n",
       "        vertical-align: middle;\n",
       "    }\n",
       "\n",
       "    .dataframe tbody tr th {\n",
       "        vertical-align: top;\n",
       "    }\n",
       "\n",
       "    .dataframe thead th {\n",
       "        text-align: right;\n",
       "    }\n",
       "</style>\n",
       "<table border=\"1\" class=\"dataframe\">\n",
       "  <thead>\n",
       "    <tr style=\"text-align: right;\">\n",
       "      <th></th>\n",
       "      <th>Nb_Sinistre_c</th>\n",
       "      <th>NombreTotalSinistres</th>\n",
       "      <th>Duree</th>\n",
       "      <th>Etat_Police</th>\n",
       "      <th>naturePolice</th>\n",
       "      <th>typeIntermediaire</th>\n",
       "    </tr>\n",
       "  </thead>\n",
       "  <tbody>\n",
       "    <tr>\n",
       "      <th>5516</th>\n",
       "      <td>1</td>\n",
       "      <td>3</td>\n",
       "      <td>4</td>\n",
       "      <td>2</td>\n",
       "      <td>0</td>\n",
       "      <td>1</td>\n",
       "    </tr>\n",
       "    <tr>\n",
       "      <th>5822</th>\n",
       "      <td>0</td>\n",
       "      <td>5</td>\n",
       "      <td>2</td>\n",
       "      <td>2</td>\n",
       "      <td>0</td>\n",
       "      <td>1</td>\n",
       "    </tr>\n",
       "    <tr>\n",
       "      <th>5908</th>\n",
       "      <td>0</td>\n",
       "      <td>5</td>\n",
       "      <td>2</td>\n",
       "      <td>0</td>\n",
       "      <td>0</td>\n",
       "      <td>2</td>\n",
       "    </tr>\n",
       "    <tr>\n",
       "      <th>6191</th>\n",
       "      <td>0</td>\n",
       "      <td>2</td>\n",
       "      <td>2</td>\n",
       "      <td>0</td>\n",
       "      <td>0</td>\n",
       "      <td>1</td>\n",
       "    </tr>\n",
       "    <tr>\n",
       "      <th>6200</th>\n",
       "      <td>0</td>\n",
       "      <td>2</td>\n",
       "      <td>3</td>\n",
       "      <td>2</td>\n",
       "      <td>0</td>\n",
       "      <td>1</td>\n",
       "    </tr>\n",
       "    <tr>\n",
       "      <th>...</th>\n",
       "      <td>...</td>\n",
       "      <td>...</td>\n",
       "      <td>...</td>\n",
       "      <td>...</td>\n",
       "      <td>...</td>\n",
       "      <td>...</td>\n",
       "    </tr>\n",
       "    <tr>\n",
       "      <th>24502</th>\n",
       "      <td>0</td>\n",
       "      <td>0</td>\n",
       "      <td>0</td>\n",
       "      <td>2</td>\n",
       "      <td>1</td>\n",
       "      <td>1</td>\n",
       "    </tr>\n",
       "    <tr>\n",
       "      <th>24505</th>\n",
       "      <td>0</td>\n",
       "      <td>0</td>\n",
       "      <td>0</td>\n",
       "      <td>2</td>\n",
       "      <td>1</td>\n",
       "      <td>1</td>\n",
       "    </tr>\n",
       "    <tr>\n",
       "      <th>24511</th>\n",
       "      <td>0</td>\n",
       "      <td>0</td>\n",
       "      <td>0</td>\n",
       "      <td>2</td>\n",
       "      <td>0</td>\n",
       "      <td>1</td>\n",
       "    </tr>\n",
       "    <tr>\n",
       "      <th>24521</th>\n",
       "      <td>0</td>\n",
       "      <td>0</td>\n",
       "      <td>0</td>\n",
       "      <td>2</td>\n",
       "      <td>0</td>\n",
       "      <td>1</td>\n",
       "    </tr>\n",
       "    <tr>\n",
       "      <th>24525</th>\n",
       "      <td>0</td>\n",
       "      <td>0</td>\n",
       "      <td>8</td>\n",
       "      <td>2</td>\n",
       "      <td>0</td>\n",
       "      <td>1</td>\n",
       "    </tr>\n",
       "  </tbody>\n",
       "</table>\n",
       "<p>2066 rows × 6 columns</p>\n",
       "</div>"
      ],
      "text/plain": [
       "       Nb_Sinistre_c  NombreTotalSinistres  Duree  Etat_Police  naturePolice  \\\n",
       "5516               1                     3      4            2             0   \n",
       "5822               0                     5      2            2             0   \n",
       "5908               0                     5      2            0             0   \n",
       "6191               0                     2      2            0             0   \n",
       "6200               0                     2      3            2             0   \n",
       "...              ...                   ...    ...          ...           ...   \n",
       "24502              0                     0      0            2             1   \n",
       "24505              0                     0      0            2             1   \n",
       "24511              0                     0      0            2             0   \n",
       "24521              0                     0      0            2             0   \n",
       "24525              0                     0      8            2             0   \n",
       "\n",
       "       typeIntermediaire  \n",
       "5516                   1  \n",
       "5822                   1  \n",
       "5908                   2  \n",
       "6191                   1  \n",
       "6200                   1  \n",
       "...                  ...  \n",
       "24502                  1  \n",
       "24505                  1  \n",
       "24511                  1  \n",
       "24521                  1  \n",
       "24525                  1  \n",
       "\n",
       "[2066 rows x 6 columns]"
      ]
     },
     "execution_count": 116,
     "metadata": {},
     "output_type": "execute_result"
    }
   ],
   "source": [
    "x"
   ]
  },
  {
   "cell_type": "code",
   "execution_count": 121,
   "metadata": {},
   "outputs": [],
   "source": [
    "from sklearn.model_selection import train_test_split\n",
    "from sklearn.metrics import accuracy_score\n",
    "X_train, X_test, y_train, y_test = train_test_split(x.values,y.values, test_size = 0.3, random_state = 0)"
   ]
  },
  {
   "cell_type": "code",
   "execution_count": 122,
   "metadata": {},
   "outputs": [
    {
     "data": {
      "text/plain": [
       "0.9967741935483871"
      ]
     },
     "execution_count": 122,
     "metadata": {},
     "output_type": "execute_result"
    }
   ],
   "source": [
    "from sklearn.ensemble import RandomForestClassifier\n",
    "clf = RandomForestClassifier()\n",
    "clf.fit(X_train, y_train)\n",
    "y_pred = clf.predict(X_test)\n",
    "acc_rd=accuracy_score(y_test, y_pred)\n",
    "acc_rd"
   ]
  },
  {
   "cell_type": "code",
   "execution_count": 123,
   "metadata": {},
   "outputs": [
    {
     "name": "stdout",
     "output_type": "stream",
     "text": [
      "[[ 16   0   0   0   0   0   0   0   0]\n",
      " [  0   4   0   0   0   0   0   0   0]\n",
      " [  0   0   4   0   0   0   0   0   0]\n",
      " [  0   0   2   1   0   0   0   0   0]\n",
      " [  0   0   0   0   2   0   0   0   0]\n",
      " [  0   0   0   0   0   9   0   0   0]\n",
      " [  0   0   0   0   0   0  13   0   0]\n",
      " [  0   0   0   0   0   0   0 553   0]\n",
      " [  0   0   0   0   0   0   0   0  16]]\n"
     ]
    }
   ],
   "source": [
    "from sklearn.metrics import confusion_matrix\n",
    "print(confusion_matrix(y_test, y_pred))"
   ]
  },
  {
   "cell_type": "code",
   "execution_count": 124,
   "metadata": {},
   "outputs": [
    {
     "data": {
      "text/plain": [
       "0.9935483870967742"
      ]
     },
     "execution_count": 124,
     "metadata": {},
     "output_type": "execute_result"
    }
   ],
   "source": [
    "from sklearn.linear_model import LogisticRegression\n",
    "clf = LogisticRegression( multi_class='multinomial', penalty='none', solver='newton-cg')\n",
    "clf.fit(X_train, y_train)\n",
    "y_pred = clf.predict(X_test)\n",
    "acc_lr=accuracy_score(y_test, y_pred)\n",
    "acc_lr"
   ]
  },
  {
   "cell_type": "code",
   "execution_count": 125,
   "metadata": {},
   "outputs": [
    {
     "name": "stdout",
     "output_type": "stream",
     "text": [
      "[[ 16   0   0   0   0   0   0   0   0]\n",
      " [  0   4   0   0   0   0   0   0   0]\n",
      " [  0   0   4   0   0   0   0   0   0]\n",
      " [  0   0   2   1   0   0   0   0   0]\n",
      " [  0   0   0   0   2   0   0   0   0]\n",
      " [  0   0   0   0   2   7   0   0   0]\n",
      " [  0   0   0   0   0   0  13   0   0]\n",
      " [  0   0   0   0   0   0   0 553   0]\n",
      " [  0   0   0   0   0   0   0   0  16]]\n"
     ]
    }
   ],
   "source": [
    "print(confusion_matrix(y_test, y_pred))"
   ]
  },
  {
   "cell_type": "code",
   "execution_count": 132,
   "metadata": {},
   "outputs": [
    {
     "data": {
      "text/plain": [
       "0.9903225806451613"
      ]
     },
     "execution_count": 132,
     "metadata": {},
     "output_type": "execute_result"
    }
   ],
   "source": [
    "knn = KNeighborsClassifier(n_neighbors = 3)\n",
    "knn.fit(X_train, y_train)\n",
    "predictions_knn = knn.predict(X_test)\n",
    "acc_knn = accuracy_score(y_test, predictions_knn)\n",
    "acc_knn"
   ]
  },
  {
   "cell_type": "code",
   "execution_count": 127,
   "metadata": {},
   "outputs": [
    {
     "data": {
      "text/html": [
       "<div>\n",
       "<style scoped>\n",
       "    .dataframe tbody tr th:only-of-type {\n",
       "        vertical-align: middle;\n",
       "    }\n",
       "\n",
       "    .dataframe tbody tr th {\n",
       "        vertical-align: top;\n",
       "    }\n",
       "\n",
       "    .dataframe thead th {\n",
       "        text-align: right;\n",
       "    }\n",
       "</style>\n",
       "<table border=\"1\" class=\"dataframe\">\n",
       "  <thead>\n",
       "    <tr style=\"text-align: right;\">\n",
       "      <th></th>\n",
       "      <th>Model</th>\n",
       "      <th>Score</th>\n",
       "    </tr>\n",
       "  </thead>\n",
       "  <tbody>\n",
       "    <tr>\n",
       "      <th>2</th>\n",
       "      <td>Random Forest</td>\n",
       "      <td>0.996774</td>\n",
       "    </tr>\n",
       "    <tr>\n",
       "      <th>1</th>\n",
       "      <td>Multinomial Logistic Regression</td>\n",
       "      <td>0.993548</td>\n",
       "    </tr>\n",
       "    <tr>\n",
       "      <th>0</th>\n",
       "      <td>KNN</td>\n",
       "      <td>0.990323</td>\n",
       "    </tr>\n",
       "  </tbody>\n",
       "</table>\n",
       "</div>"
      ],
      "text/plain": [
       "                             Model     Score\n",
       "2                    Random Forest  0.996774\n",
       "1  Multinomial Logistic Regression  0.993548\n",
       "0                              KNN  0.990323"
      ]
     },
     "execution_count": 127,
     "metadata": {},
     "output_type": "execute_result"
    }
   ],
   "source": [
    "models = pd.DataFrame({\n",
    "    'Model': ['KNN',\n",
    "              'Multinomial Logistic Regression',  \n",
    "              'Random Forest'],\n",
    "    'Score': [acc_knn, \n",
    "              acc_lr, \n",
    "              acc_rd\n",
    "             ]})\n",
    "models.sort_values(by=\"Score\",ascending=False)"
   ]
  },
  {
   "cell_type": "code",
   "execution_count": null,
   "metadata": {},
   "outputs": [],
   "source": []
  }
 ],
 "metadata": {
  "kernelspec": {
   "display_name": "Python 3",
   "language": "python",
   "name": "python3"
  },
  "language_info": {
   "codemirror_mode": {
    "name": "ipython",
    "version": 3
   },
   "file_extension": ".py",
   "mimetype": "text/x-python",
   "name": "python",
   "nbconvert_exporter": "python",
   "pygments_lexer": "ipython3",
   "version": "3.8.5"
  }
 },
 "nbformat": 4,
 "nbformat_minor": 4
}
